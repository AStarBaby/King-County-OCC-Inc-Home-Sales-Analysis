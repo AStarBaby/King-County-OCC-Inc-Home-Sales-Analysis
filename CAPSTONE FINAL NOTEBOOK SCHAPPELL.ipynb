{
 "cells": [
  {
   "cell_type": "markdown",
   "metadata": {
    "index": 0
   },
   "source": [
    "# Capstone Regression Project\n",
    "### Scharmaine Chappell"
   ]
  },
  {
   "cell_type": "markdown",
   "metadata": {
    "index": 2
   },
   "source": [
    "## Business Understanding\n",
    "My stakeholder, One Call Concepts, Inc. is wanting to prepare for the next busy season. One Call Concepts,known by many different names, including DigSafe, is ran as Washington Utility Notification Center in Washington state. (http://www.callbeforeyoudig.org/washington/faq.asp#q1) They are the middle man when a contractor, or homeowner, or anyone, wants to move dirt around and the locating companies. They maintain databases of underground facilities and use that information to know who to contact using a proprietary software system.\n",
    "\n",
    "DigSafe would like to be able to predict the final sale prices of properties currently in areas with no view, needing beautification. Working with King County, Washington they have learned that the county is looking to provide incentives to owners of these properties. This predicting model will allow the county to discern what type or amount of incentive to provide the owners. Encouraging economic growth and a more inviting natural habitation throught the county. Which in turn should increase interest in their county from tourists and possible new residents(constituents).\n",
    "\n",
    "We will begin narrowing the variables by view. We will then remove the price outliers. From the cleaned dataset we will start with the square footage of the lot, total living area and the area above ground."
   ]
  },
  {
   "cell_type": "markdown",
   "metadata": {
    "index": 2
   },
   "source": [
    "## Data Understanding\n",
    "What we'll do is use data gathered on the county from 2021 - 2022 home sales data for King County Washington. https://data.kingcounty.gov/ .\n",
    "\n"
   ]
  },
  {
   "cell_type": "markdown",
   "metadata": {
    "index": 2
   },
   "source": [
    "## Data Preparation"
   ]
  },
  {
   "cell_type": "markdown",
   "metadata": {},
   "source": [
    "### Loading the Data"
   ]
  },
  {
   "cell_type": "code",
   "execution_count": 1,
   "metadata": {},
   "outputs": [],
   "source": [
    "import pandas as pd\n",
    "import numpy as np\n",
    "import statsmodels.api as sm\n",
    "import matplotlib.pyplot as plt\n",
    "%matplotlib inline\n",
    "import seaborn as sns\n",
    "sns.set_theme(style=\"ticks\", palette=\"rocket\")\n"
   ]
  },
  {
   "cell_type": "code",
   "execution_count": 2,
   "metadata": {
    "index": 3,
    "scrolled": true
   },
   "outputs": [],
   "source": [
    "df = pd.read_csv('data/kc_house_data.csv')"
   ]
  },
  {
   "cell_type": "markdown",
   "metadata": {
    "index": 8
   },
   "source": [
    "### Data Exploration"
   ]
  },
  {
   "cell_type": "code",
   "execution_count": 3,
   "metadata": {},
   "outputs": [
    {
     "name": "stdout",
     "output_type": "stream",
     "text": [
      "<class 'pandas.core.frame.DataFrame'>\n",
      "RangeIndex: 30155 entries, 0 to 30154\n",
      "Data columns (total 25 columns):\n",
      " #   Column         Non-Null Count  Dtype  \n",
      "---  ------         --------------  -----  \n",
      " 0   id             30155 non-null  int64  \n",
      " 1   date           30155 non-null  object \n",
      " 2   price          30155 non-null  float64\n",
      " 3   bedrooms       30155 non-null  int64  \n",
      " 4   bathrooms      30155 non-null  float64\n",
      " 5   sqft_living    30155 non-null  int64  \n",
      " 6   sqft_lot       30155 non-null  int64  \n",
      " 7   floors         30155 non-null  float64\n",
      " 8   waterfront     30155 non-null  object \n",
      " 9   greenbelt      30155 non-null  object \n",
      " 10  nuisance       30155 non-null  object \n",
      " 11  view           30155 non-null  object \n",
      " 12  condition      30155 non-null  object \n",
      " 13  grade          30155 non-null  object \n",
      " 14  heat_source    30123 non-null  object \n",
      " 15  sewer_system   30141 non-null  object \n",
      " 16  sqft_above     30155 non-null  int64  \n",
      " 17  sqft_basement  30155 non-null  int64  \n",
      " 18  sqft_garage    30155 non-null  int64  \n",
      " 19  sqft_patio     30155 non-null  int64  \n",
      " 20  yr_built       30155 non-null  int64  \n",
      " 21  yr_renovated   30155 non-null  int64  \n",
      " 22  address        30155 non-null  object \n",
      " 23  lat            30155 non-null  float64\n",
      " 24  long           30155 non-null  float64\n",
      "dtypes: float64(5), int64(10), object(10)\n",
      "memory usage: 5.8+ MB\n"
     ]
    }
   ],
   "source": [
    "#review label, types and for null values\n",
    "df.info()"
   ]
  },
  {
   "cell_type": "code",
   "execution_count": 4,
   "metadata": {},
   "outputs": [
    {
     "data": {
      "text/html": [
       "<div>\n",
       "<style scoped>\n",
       "    .dataframe tbody tr th:only-of-type {\n",
       "        vertical-align: middle;\n",
       "    }\n",
       "\n",
       "    .dataframe tbody tr th {\n",
       "        vertical-align: top;\n",
       "    }\n",
       "\n",
       "    .dataframe thead th {\n",
       "        text-align: right;\n",
       "    }\n",
       "</style>\n",
       "<table border=\"1\" class=\"dataframe\">\n",
       "  <thead>\n",
       "    <tr style=\"text-align: right;\">\n",
       "      <th></th>\n",
       "      <th>id</th>\n",
       "      <th>price</th>\n",
       "      <th>bedrooms</th>\n",
       "      <th>bathrooms</th>\n",
       "      <th>sqft_living</th>\n",
       "      <th>sqft_lot</th>\n",
       "      <th>floors</th>\n",
       "      <th>sqft_above</th>\n",
       "      <th>sqft_basement</th>\n",
       "      <th>sqft_garage</th>\n",
       "      <th>sqft_patio</th>\n",
       "      <th>yr_built</th>\n",
       "      <th>yr_renovated</th>\n",
       "      <th>lat</th>\n",
       "      <th>long</th>\n",
       "    </tr>\n",
       "  </thead>\n",
       "  <tbody>\n",
       "    <tr>\n",
       "      <th>count</th>\n",
       "      <td>3.015500e+04</td>\n",
       "      <td>3.015500e+04</td>\n",
       "      <td>30155.000000</td>\n",
       "      <td>30155.000000</td>\n",
       "      <td>30155.000000</td>\n",
       "      <td>3.015500e+04</td>\n",
       "      <td>30155.000000</td>\n",
       "      <td>30155.000000</td>\n",
       "      <td>30155.000000</td>\n",
       "      <td>30155.000000</td>\n",
       "      <td>30155.000000</td>\n",
       "      <td>30155.000000</td>\n",
       "      <td>30155.000000</td>\n",
       "      <td>30155.000000</td>\n",
       "      <td>30155.000000</td>\n",
       "    </tr>\n",
       "    <tr>\n",
       "      <th>mean</th>\n",
       "      <td>4.538104e+09</td>\n",
       "      <td>1.108536e+06</td>\n",
       "      <td>3.413530</td>\n",
       "      <td>2.334737</td>\n",
       "      <td>2112.424739</td>\n",
       "      <td>1.672360e+04</td>\n",
       "      <td>1.543492</td>\n",
       "      <td>1809.826098</td>\n",
       "      <td>476.039396</td>\n",
       "      <td>330.211142</td>\n",
       "      <td>217.412038</td>\n",
       "      <td>1975.163953</td>\n",
       "      <td>90.922301</td>\n",
       "      <td>47.328076</td>\n",
       "      <td>-121.317397</td>\n",
       "    </tr>\n",
       "    <tr>\n",
       "      <th>std</th>\n",
       "      <td>2.882587e+09</td>\n",
       "      <td>8.963857e+05</td>\n",
       "      <td>0.981612</td>\n",
       "      <td>0.889556</td>\n",
       "      <td>974.044318</td>\n",
       "      <td>6.038260e+04</td>\n",
       "      <td>0.567717</td>\n",
       "      <td>878.306131</td>\n",
       "      <td>579.631302</td>\n",
       "      <td>285.770536</td>\n",
       "      <td>245.302792</td>\n",
       "      <td>32.067362</td>\n",
       "      <td>416.473038</td>\n",
       "      <td>1.434005</td>\n",
       "      <td>5.725475</td>\n",
       "    </tr>\n",
       "    <tr>\n",
       "      <th>min</th>\n",
       "      <td>1.000055e+06</td>\n",
       "      <td>2.736000e+04</td>\n",
       "      <td>0.000000</td>\n",
       "      <td>0.000000</td>\n",
       "      <td>3.000000</td>\n",
       "      <td>4.020000e+02</td>\n",
       "      <td>1.000000</td>\n",
       "      <td>2.000000</td>\n",
       "      <td>0.000000</td>\n",
       "      <td>0.000000</td>\n",
       "      <td>0.000000</td>\n",
       "      <td>1900.000000</td>\n",
       "      <td>0.000000</td>\n",
       "      <td>21.274240</td>\n",
       "      <td>-157.791480</td>\n",
       "    </tr>\n",
       "    <tr>\n",
       "      <th>25%</th>\n",
       "      <td>2.064175e+09</td>\n",
       "      <td>6.480000e+05</td>\n",
       "      <td>3.000000</td>\n",
       "      <td>2.000000</td>\n",
       "      <td>1420.000000</td>\n",
       "      <td>4.850000e+03</td>\n",
       "      <td>1.000000</td>\n",
       "      <td>1180.000000</td>\n",
       "      <td>0.000000</td>\n",
       "      <td>0.000000</td>\n",
       "      <td>40.000000</td>\n",
       "      <td>1953.000000</td>\n",
       "      <td>0.000000</td>\n",
       "      <td>47.405320</td>\n",
       "      <td>-122.326045</td>\n",
       "    </tr>\n",
       "    <tr>\n",
       "      <th>50%</th>\n",
       "      <td>3.874011e+09</td>\n",
       "      <td>8.600000e+05</td>\n",
       "      <td>3.000000</td>\n",
       "      <td>2.500000</td>\n",
       "      <td>1920.000000</td>\n",
       "      <td>7.480000e+03</td>\n",
       "      <td>1.500000</td>\n",
       "      <td>1560.000000</td>\n",
       "      <td>0.000000</td>\n",
       "      <td>400.000000</td>\n",
       "      <td>150.000000</td>\n",
       "      <td>1977.000000</td>\n",
       "      <td>0.000000</td>\n",
       "      <td>47.551380</td>\n",
       "      <td>-122.225585</td>\n",
       "    </tr>\n",
       "    <tr>\n",
       "      <th>75%</th>\n",
       "      <td>7.287100e+09</td>\n",
       "      <td>1.300000e+06</td>\n",
       "      <td>4.000000</td>\n",
       "      <td>3.000000</td>\n",
       "      <td>2619.500000</td>\n",
       "      <td>1.057900e+04</td>\n",
       "      <td>2.000000</td>\n",
       "      <td>2270.000000</td>\n",
       "      <td>940.000000</td>\n",
       "      <td>510.000000</td>\n",
       "      <td>320.000000</td>\n",
       "      <td>2003.000000</td>\n",
       "      <td>0.000000</td>\n",
       "      <td>47.669913</td>\n",
       "      <td>-122.116205</td>\n",
       "    </tr>\n",
       "    <tr>\n",
       "      <th>max</th>\n",
       "      <td>9.904000e+09</td>\n",
       "      <td>3.075000e+07</td>\n",
       "      <td>13.000000</td>\n",
       "      <td>10.500000</td>\n",
       "      <td>15360.000000</td>\n",
       "      <td>3.253932e+06</td>\n",
       "      <td>4.000000</td>\n",
       "      <td>12660.000000</td>\n",
       "      <td>8020.000000</td>\n",
       "      <td>3580.000000</td>\n",
       "      <td>4370.000000</td>\n",
       "      <td>2022.000000</td>\n",
       "      <td>2022.000000</td>\n",
       "      <td>64.824070</td>\n",
       "      <td>-70.074340</td>\n",
       "    </tr>\n",
       "  </tbody>\n",
       "</table>\n",
       "</div>"
      ],
      "text/plain": [
       "                 id         price      bedrooms     bathrooms   sqft_living  \\\n",
       "count  3.015500e+04  3.015500e+04  30155.000000  30155.000000  30155.000000   \n",
       "mean   4.538104e+09  1.108536e+06      3.413530      2.334737   2112.424739   \n",
       "std    2.882587e+09  8.963857e+05      0.981612      0.889556    974.044318   \n",
       "min    1.000055e+06  2.736000e+04      0.000000      0.000000      3.000000   \n",
       "25%    2.064175e+09  6.480000e+05      3.000000      2.000000   1420.000000   \n",
       "50%    3.874011e+09  8.600000e+05      3.000000      2.500000   1920.000000   \n",
       "75%    7.287100e+09  1.300000e+06      4.000000      3.000000   2619.500000   \n",
       "max    9.904000e+09  3.075000e+07     13.000000     10.500000  15360.000000   \n",
       "\n",
       "           sqft_lot        floors    sqft_above  sqft_basement   sqft_garage  \\\n",
       "count  3.015500e+04  30155.000000  30155.000000   30155.000000  30155.000000   \n",
       "mean   1.672360e+04      1.543492   1809.826098     476.039396    330.211142   \n",
       "std    6.038260e+04      0.567717    878.306131     579.631302    285.770536   \n",
       "min    4.020000e+02      1.000000      2.000000       0.000000      0.000000   \n",
       "25%    4.850000e+03      1.000000   1180.000000       0.000000      0.000000   \n",
       "50%    7.480000e+03      1.500000   1560.000000       0.000000    400.000000   \n",
       "75%    1.057900e+04      2.000000   2270.000000     940.000000    510.000000   \n",
       "max    3.253932e+06      4.000000  12660.000000    8020.000000   3580.000000   \n",
       "\n",
       "         sqft_patio      yr_built  yr_renovated           lat          long  \n",
       "count  30155.000000  30155.000000  30155.000000  30155.000000  30155.000000  \n",
       "mean     217.412038   1975.163953     90.922301     47.328076   -121.317397  \n",
       "std      245.302792     32.067362    416.473038      1.434005      5.725475  \n",
       "min        0.000000   1900.000000      0.000000     21.274240   -157.791480  \n",
       "25%       40.000000   1953.000000      0.000000     47.405320   -122.326045  \n",
       "50%      150.000000   1977.000000      0.000000     47.551380   -122.225585  \n",
       "75%      320.000000   2003.000000      0.000000     47.669913   -122.116205  \n",
       "max     4370.000000   2022.000000   2022.000000     64.824070    -70.074340  "
      ]
     },
     "execution_count": 4,
     "metadata": {},
     "output_type": "execute_result"
    }
   ],
   "source": [
    "#looking for which is carrying the most weight, mean, of the numerical catagories\n",
    "df.describe()"
   ]
  },
  {
   "cell_type": "markdown",
   "metadata": {},
   "source": [
    "### We see that id is the heaviest, then price, sqft_lot, sqft_living, yr_built, sqft_above. ID is the heaviest, but is not relevant for our problem, so we will drop that column first. Price will be our target. We want to know what percentage of the lot the total living space takes up. And how that takes effects the final price of the property. "
   ]
  },
  {
   "cell_type": "code",
   "execution_count": 5,
   "metadata": {
    "scrolled": false
   },
   "outputs": [
    {
     "data": {
      "text/html": [
       "<div>\n",
       "<style scoped>\n",
       "    .dataframe tbody tr th:only-of-type {\n",
       "        vertical-align: middle;\n",
       "    }\n",
       "\n",
       "    .dataframe tbody tr th {\n",
       "        vertical-align: top;\n",
       "    }\n",
       "\n",
       "    .dataframe thead th {\n",
       "        text-align: right;\n",
       "    }\n",
       "</style>\n",
       "<table border=\"1\" class=\"dataframe\">\n",
       "  <thead>\n",
       "    <tr style=\"text-align: right;\">\n",
       "      <th></th>\n",
       "      <th>id</th>\n",
       "      <th>price</th>\n",
       "      <th>bedrooms</th>\n",
       "      <th>bathrooms</th>\n",
       "      <th>sqft_living</th>\n",
       "      <th>sqft_lot</th>\n",
       "      <th>floors</th>\n",
       "      <th>sqft_above</th>\n",
       "      <th>sqft_basement</th>\n",
       "      <th>sqft_garage</th>\n",
       "      <th>sqft_patio</th>\n",
       "      <th>yr_built</th>\n",
       "      <th>yr_renovated</th>\n",
       "      <th>lat</th>\n",
       "      <th>long</th>\n",
       "    </tr>\n",
       "  </thead>\n",
       "  <tbody>\n",
       "    <tr>\n",
       "      <th>id</th>\n",
       "      <td>1.000000</td>\n",
       "      <td>-0.034184</td>\n",
       "      <td>-0.006306</td>\n",
       "      <td>-0.012094</td>\n",
       "      <td>-0.027932</td>\n",
       "      <td>-0.119101</td>\n",
       "      <td>0.032043</td>\n",
       "      <td>-0.023216</td>\n",
       "      <td>-0.014662</td>\n",
       "      <td>-0.007829</td>\n",
       "      <td>-0.041625</td>\n",
       "      <td>0.023071</td>\n",
       "      <td>-0.029131</td>\n",
       "      <td>-0.000691</td>\n",
       "      <td>0.000479</td>\n",
       "    </tr>\n",
       "    <tr>\n",
       "      <th>price</th>\n",
       "      <td>-0.034184</td>\n",
       "      <td>1.000000</td>\n",
       "      <td>0.289204</td>\n",
       "      <td>0.480401</td>\n",
       "      <td>0.608521</td>\n",
       "      <td>0.085730</td>\n",
       "      <td>0.180576</td>\n",
       "      <td>0.538651</td>\n",
       "      <td>0.245058</td>\n",
       "      <td>0.264169</td>\n",
       "      <td>0.313409</td>\n",
       "      <td>0.096013</td>\n",
       "      <td>0.084786</td>\n",
       "      <td>0.063632</td>\n",
       "      <td>-0.022509</td>\n",
       "    </tr>\n",
       "    <tr>\n",
       "      <th>bedrooms</th>\n",
       "      <td>-0.006306</td>\n",
       "      <td>0.289204</td>\n",
       "      <td>1.000000</td>\n",
       "      <td>0.589273</td>\n",
       "      <td>0.637874</td>\n",
       "      <td>0.003306</td>\n",
       "      <td>0.147592</td>\n",
       "      <td>0.547164</td>\n",
       "      <td>0.238502</td>\n",
       "      <td>0.319441</td>\n",
       "      <td>0.183439</td>\n",
       "      <td>0.146191</td>\n",
       "      <td>0.014286</td>\n",
       "      <td>0.108758</td>\n",
       "      <td>-0.106689</td>\n",
       "    </tr>\n",
       "    <tr>\n",
       "      <th>bathrooms</th>\n",
       "      <td>-0.012094</td>\n",
       "      <td>0.480401</td>\n",
       "      <td>0.589273</td>\n",
       "      <td>1.000000</td>\n",
       "      <td>0.772677</td>\n",
       "      <td>0.035886</td>\n",
       "      <td>0.404412</td>\n",
       "      <td>0.674924</td>\n",
       "      <td>0.260902</td>\n",
       "      <td>0.457022</td>\n",
       "      <td>0.327551</td>\n",
       "      <td>0.443648</td>\n",
       "      <td>0.040631</td>\n",
       "      <td>-0.005225</td>\n",
       "      <td>0.017400</td>\n",
       "    </tr>\n",
       "    <tr>\n",
       "      <th>sqft_living</th>\n",
       "      <td>-0.027932</td>\n",
       "      <td>0.608521</td>\n",
       "      <td>0.637874</td>\n",
       "      <td>0.772677</td>\n",
       "      <td>1.000000</td>\n",
       "      <td>0.119563</td>\n",
       "      <td>0.304240</td>\n",
       "      <td>0.883984</td>\n",
       "      <td>0.338460</td>\n",
       "      <td>0.511740</td>\n",
       "      <td>0.396030</td>\n",
       "      <td>0.291694</td>\n",
       "      <td>0.038499</td>\n",
       "      <td>0.102186</td>\n",
       "      <td>-0.087669</td>\n",
       "    </tr>\n",
       "    <tr>\n",
       "      <th>sqft_lot</th>\n",
       "      <td>-0.119101</td>\n",
       "      <td>0.085730</td>\n",
       "      <td>0.003306</td>\n",
       "      <td>0.035886</td>\n",
       "      <td>0.119563</td>\n",
       "      <td>1.000000</td>\n",
       "      <td>-0.032097</td>\n",
       "      <td>0.129231</td>\n",
       "      <td>0.004111</td>\n",
       "      <td>0.087169</td>\n",
       "      <td>0.155250</td>\n",
       "      <td>0.001750</td>\n",
       "      <td>0.010049</td>\n",
       "      <td>0.030020</td>\n",
       "      <td>-0.034308</td>\n",
       "    </tr>\n",
       "    <tr>\n",
       "      <th>floors</th>\n",
       "      <td>0.032043</td>\n",
       "      <td>0.180576</td>\n",
       "      <td>0.147592</td>\n",
       "      <td>0.404412</td>\n",
       "      <td>0.304240</td>\n",
       "      <td>-0.032097</td>\n",
       "      <td>1.000000</td>\n",
       "      <td>0.448281</td>\n",
       "      <td>-0.248093</td>\n",
       "      <td>0.132656</td>\n",
       "      <td>0.125183</td>\n",
       "      <td>0.544646</td>\n",
       "      <td>-0.025449</td>\n",
       "      <td>-0.218554</td>\n",
       "      <td>0.233781</td>\n",
       "    </tr>\n",
       "    <tr>\n",
       "      <th>sqft_above</th>\n",
       "      <td>-0.023216</td>\n",
       "      <td>0.538651</td>\n",
       "      <td>0.547164</td>\n",
       "      <td>0.674924</td>\n",
       "      <td>0.883984</td>\n",
       "      <td>0.129231</td>\n",
       "      <td>0.448281</td>\n",
       "      <td>1.000000</td>\n",
       "      <td>-0.066801</td>\n",
       "      <td>0.560551</td>\n",
       "      <td>0.312117</td>\n",
       "      <td>0.387448</td>\n",
       "      <td>0.010598</td>\n",
       "      <td>0.092258</td>\n",
       "      <td>-0.082744</td>\n",
       "    </tr>\n",
       "    <tr>\n",
       "      <th>sqft_basement</th>\n",
       "      <td>-0.014662</td>\n",
       "      <td>0.245058</td>\n",
       "      <td>0.238502</td>\n",
       "      <td>0.260902</td>\n",
       "      <td>0.338460</td>\n",
       "      <td>0.004111</td>\n",
       "      <td>-0.248093</td>\n",
       "      <td>-0.066801</td>\n",
       "      <td>1.000000</td>\n",
       "      <td>0.026361</td>\n",
       "      <td>0.210500</td>\n",
       "      <td>-0.230226</td>\n",
       "      <td>0.053634</td>\n",
       "      <td>0.059788</td>\n",
       "      <td>-0.045208</td>\n",
       "    </tr>\n",
       "    <tr>\n",
       "      <th>sqft_garage</th>\n",
       "      <td>-0.007829</td>\n",
       "      <td>0.264169</td>\n",
       "      <td>0.319441</td>\n",
       "      <td>0.457022</td>\n",
       "      <td>0.511740</td>\n",
       "      <td>0.087169</td>\n",
       "      <td>0.132656</td>\n",
       "      <td>0.560551</td>\n",
       "      <td>0.026361</td>\n",
       "      <td>1.000000</td>\n",
       "      <td>0.216354</td>\n",
       "      <td>0.447560</td>\n",
       "      <td>-0.098603</td>\n",
       "      <td>0.092346</td>\n",
       "      <td>-0.096861</td>\n",
       "    </tr>\n",
       "    <tr>\n",
       "      <th>sqft_patio</th>\n",
       "      <td>-0.041625</td>\n",
       "      <td>0.313409</td>\n",
       "      <td>0.183439</td>\n",
       "      <td>0.327551</td>\n",
       "      <td>0.396030</td>\n",
       "      <td>0.155250</td>\n",
       "      <td>0.125183</td>\n",
       "      <td>0.312117</td>\n",
       "      <td>0.210500</td>\n",
       "      <td>0.216354</td>\n",
       "      <td>1.000000</td>\n",
       "      <td>0.138409</td>\n",
       "      <td>0.056385</td>\n",
       "      <td>-0.019724</td>\n",
       "      <td>0.025699</td>\n",
       "    </tr>\n",
       "    <tr>\n",
       "      <th>yr_built</th>\n",
       "      <td>0.023071</td>\n",
       "      <td>0.096013</td>\n",
       "      <td>0.146191</td>\n",
       "      <td>0.443648</td>\n",
       "      <td>0.291694</td>\n",
       "      <td>0.001750</td>\n",
       "      <td>0.544646</td>\n",
       "      <td>0.387448</td>\n",
       "      <td>-0.230226</td>\n",
       "      <td>0.447560</td>\n",
       "      <td>0.138409</td>\n",
       "      <td>1.000000</td>\n",
       "      <td>-0.239284</td>\n",
       "      <td>-0.207186</td>\n",
       "      <td>0.209878</td>\n",
       "    </tr>\n",
       "    <tr>\n",
       "      <th>yr_renovated</th>\n",
       "      <td>-0.029131</td>\n",
       "      <td>0.084786</td>\n",
       "      <td>0.014286</td>\n",
       "      <td>0.040631</td>\n",
       "      <td>0.038499</td>\n",
       "      <td>0.010049</td>\n",
       "      <td>-0.025449</td>\n",
       "      <td>0.010598</td>\n",
       "      <td>0.053634</td>\n",
       "      <td>-0.098603</td>\n",
       "      <td>0.056385</td>\n",
       "      <td>-0.239284</td>\n",
       "      <td>1.000000</td>\n",
       "      <td>0.036956</td>\n",
       "      <td>-0.035631</td>\n",
       "    </tr>\n",
       "    <tr>\n",
       "      <th>lat</th>\n",
       "      <td>-0.000691</td>\n",
       "      <td>0.063632</td>\n",
       "      <td>0.108758</td>\n",
       "      <td>-0.005225</td>\n",
       "      <td>0.102186</td>\n",
       "      <td>0.030020</td>\n",
       "      <td>-0.218554</td>\n",
       "      <td>0.092258</td>\n",
       "      <td>0.059788</td>\n",
       "      <td>0.092346</td>\n",
       "      <td>-0.019724</td>\n",
       "      <td>-0.207186</td>\n",
       "      <td>0.036956</td>\n",
       "      <td>1.000000</td>\n",
       "      <td>-0.760766</td>\n",
       "    </tr>\n",
       "    <tr>\n",
       "      <th>long</th>\n",
       "      <td>0.000479</td>\n",
       "      <td>-0.022509</td>\n",
       "      <td>-0.106689</td>\n",
       "      <td>0.017400</td>\n",
       "      <td>-0.087669</td>\n",
       "      <td>-0.034308</td>\n",
       "      <td>0.233781</td>\n",
       "      <td>-0.082744</td>\n",
       "      <td>-0.045208</td>\n",
       "      <td>-0.096861</td>\n",
       "      <td>0.025699</td>\n",
       "      <td>0.209878</td>\n",
       "      <td>-0.035631</td>\n",
       "      <td>-0.760766</td>\n",
       "      <td>1.000000</td>\n",
       "    </tr>\n",
       "  </tbody>\n",
       "</table>\n",
       "</div>"
      ],
      "text/plain": [
       "                     id     price  bedrooms  bathrooms  sqft_living  sqft_lot  \\\n",
       "id             1.000000 -0.034184 -0.006306  -0.012094    -0.027932 -0.119101   \n",
       "price         -0.034184  1.000000  0.289204   0.480401     0.608521  0.085730   \n",
       "bedrooms      -0.006306  0.289204  1.000000   0.589273     0.637874  0.003306   \n",
       "bathrooms     -0.012094  0.480401  0.589273   1.000000     0.772677  0.035886   \n",
       "sqft_living   -0.027932  0.608521  0.637874   0.772677     1.000000  0.119563   \n",
       "sqft_lot      -0.119101  0.085730  0.003306   0.035886     0.119563  1.000000   \n",
       "floors         0.032043  0.180576  0.147592   0.404412     0.304240 -0.032097   \n",
       "sqft_above    -0.023216  0.538651  0.547164   0.674924     0.883984  0.129231   \n",
       "sqft_basement -0.014662  0.245058  0.238502   0.260902     0.338460  0.004111   \n",
       "sqft_garage   -0.007829  0.264169  0.319441   0.457022     0.511740  0.087169   \n",
       "sqft_patio    -0.041625  0.313409  0.183439   0.327551     0.396030  0.155250   \n",
       "yr_built       0.023071  0.096013  0.146191   0.443648     0.291694  0.001750   \n",
       "yr_renovated  -0.029131  0.084786  0.014286   0.040631     0.038499  0.010049   \n",
       "lat           -0.000691  0.063632  0.108758  -0.005225     0.102186  0.030020   \n",
       "long           0.000479 -0.022509 -0.106689   0.017400    -0.087669 -0.034308   \n",
       "\n",
       "                 floors  sqft_above  sqft_basement  sqft_garage  sqft_patio  \\\n",
       "id             0.032043   -0.023216      -0.014662    -0.007829   -0.041625   \n",
       "price          0.180576    0.538651       0.245058     0.264169    0.313409   \n",
       "bedrooms       0.147592    0.547164       0.238502     0.319441    0.183439   \n",
       "bathrooms      0.404412    0.674924       0.260902     0.457022    0.327551   \n",
       "sqft_living    0.304240    0.883984       0.338460     0.511740    0.396030   \n",
       "sqft_lot      -0.032097    0.129231       0.004111     0.087169    0.155250   \n",
       "floors         1.000000    0.448281      -0.248093     0.132656    0.125183   \n",
       "sqft_above     0.448281    1.000000      -0.066801     0.560551    0.312117   \n",
       "sqft_basement -0.248093   -0.066801       1.000000     0.026361    0.210500   \n",
       "sqft_garage    0.132656    0.560551       0.026361     1.000000    0.216354   \n",
       "sqft_patio     0.125183    0.312117       0.210500     0.216354    1.000000   \n",
       "yr_built       0.544646    0.387448      -0.230226     0.447560    0.138409   \n",
       "yr_renovated  -0.025449    0.010598       0.053634    -0.098603    0.056385   \n",
       "lat           -0.218554    0.092258       0.059788     0.092346   -0.019724   \n",
       "long           0.233781   -0.082744      -0.045208    -0.096861    0.025699   \n",
       "\n",
       "               yr_built  yr_renovated       lat      long  \n",
       "id             0.023071     -0.029131 -0.000691  0.000479  \n",
       "price          0.096013      0.084786  0.063632 -0.022509  \n",
       "bedrooms       0.146191      0.014286  0.108758 -0.106689  \n",
       "bathrooms      0.443648      0.040631 -0.005225  0.017400  \n",
       "sqft_living    0.291694      0.038499  0.102186 -0.087669  \n",
       "sqft_lot       0.001750      0.010049  0.030020 -0.034308  \n",
       "floors         0.544646     -0.025449 -0.218554  0.233781  \n",
       "sqft_above     0.387448      0.010598  0.092258 -0.082744  \n",
       "sqft_basement -0.230226      0.053634  0.059788 -0.045208  \n",
       "sqft_garage    0.447560     -0.098603  0.092346 -0.096861  \n",
       "sqft_patio     0.138409      0.056385 -0.019724  0.025699  \n",
       "yr_built       1.000000     -0.239284 -0.207186  0.209878  \n",
       "yr_renovated  -0.239284      1.000000  0.036956 -0.035631  \n",
       "lat           -0.207186      0.036956  1.000000 -0.760766  \n",
       "long           0.209878     -0.035631 -0.760766  1.000000  "
      ]
     },
     "execution_count": 5,
     "metadata": {},
     "output_type": "execute_result"
    }
   ],
   "source": [
    "df.corr()"
   ]
  },
  {
   "cell_type": "code",
   "execution_count": 6,
   "metadata": {},
   "outputs": [
    {
     "data": {
      "text/plain": [
       "<AxesSubplot:>"
      ]
     },
     "execution_count": 6,
     "metadata": {},
     "output_type": "execute_result"
    },
    {
     "data": {
      "image/png": "[encoded data removed]",
      "text/plain": [
       "<Figure size 432x288 with 2 Axes>"
      ]
     },
     "metadata": {},
     "output_type": "display_data"
    }
   ],
   "source": [
    "#checking for multicollinearity prior to clean up\n",
    "sns.heatmap(df.corr())"
   ]
  },
  {
   "cell_type": "code",
   "execution_count": 7,
   "metadata": {},
   "outputs": [
    {
     "data": {
      "text/plain": [
       "0.0857304213147298"
      ]
     },
     "execution_count": 7,
     "metadata": {},
     "output_type": "execute_result"
    }
   ],
   "source": [
    "df.price.corr(df.sqft_lot)"
   ]
  },
  {
   "cell_type": "code",
   "execution_count": 8,
   "metadata": {},
   "outputs": [
    {
     "data": {
      "text/plain": [
       "0.6085212366942929"
      ]
     },
     "execution_count": 8,
     "metadata": {},
     "output_type": "execute_result"
    }
   ],
   "source": [
    "df.price.corr(df.sqft_living)"
   ]
  },
  {
   "cell_type": "code",
   "execution_count": 9,
   "metadata": {},
   "outputs": [
    {
     "data": {
      "text/plain": [
       "0.5386511734301328"
      ]
     },
     "execution_count": 9,
     "metadata": {},
     "output_type": "execute_result"
    }
   ],
   "source": [
    "#sqft_above is the area of the home that is above ground\n",
    "df.price.corr(df.sqft_above)"
   ]
  },
  {
   "cell_type": "markdown",
   "metadata": {},
   "source": [
    "### Data Cleaning"
   ]
  },
  {
   "cell_type": "code",
   "execution_count": 10,
   "metadata": {
    "scrolled": true
   },
   "outputs": [
    {
     "data": {
      "text/plain": [
       "id                0\n",
       "date              0\n",
       "price             0\n",
       "bedrooms          0\n",
       "bathrooms         0\n",
       "sqft_living       0\n",
       "sqft_lot          0\n",
       "floors            0\n",
       "waterfront        0\n",
       "greenbelt         0\n",
       "nuisance          0\n",
       "view              0\n",
       "condition         0\n",
       "grade             0\n",
       "heat_source      32\n",
       "sewer_system     14\n",
       "sqft_above        0\n",
       "sqft_basement     0\n",
       "sqft_garage       0\n",
       "sqft_patio        0\n",
       "yr_built          0\n",
       "yr_renovated      0\n",
       "address           0\n",
       "lat               0\n",
       "long              0\n",
       "dtype: int64"
      ]
     },
     "execution_count": 10,
     "metadata": {},
     "output_type": "execute_result"
    }
   ],
   "source": [
    "#check for null values\n",
    "df.isnull().sum()"
   ]
  },
  {
   "cell_type": "markdown",
   "metadata": {},
   "source": [
    "#### Our heat_source and sewer_system have a negligent amount of null values in respect to the size of the size of the dataset with 32 and 14 out of 30155 entries. Therefore, we will remove these rows from our dataframe"
   ]
  },
  {
   "cell_type": "code",
   "execution_count": 11,
   "metadata": {},
   "outputs": [
    {
     "data": {
      "text/plain": [
       "id               0\n",
       "date             0\n",
       "price            0\n",
       "bedrooms         0\n",
       "bathrooms        0\n",
       "sqft_living      0\n",
       "sqft_lot         0\n",
       "floors           0\n",
       "waterfront       0\n",
       "greenbelt        0\n",
       "nuisance         0\n",
       "view             0\n",
       "condition        0\n",
       "grade            0\n",
       "heat_source      0\n",
       "sewer_system     0\n",
       "sqft_above       0\n",
       "sqft_basement    0\n",
       "sqft_garage      0\n",
       "sqft_patio       0\n",
       "yr_built         0\n",
       "yr_renovated     0\n",
       "address          0\n",
       "lat              0\n",
       "long             0\n",
       "dtype: int64"
      ]
     },
     "execution_count": 11,
     "metadata": {},
     "output_type": "execute_result"
    }
   ],
   "source": [
    "df.dropna(axis = 0, inplace = True)\n",
    "#confirm null values have been removed\n",
    "df.isnull().sum()"
   ]
  },
  {
   "cell_type": "code",
   "execution_count": 12,
   "metadata": {},
   "outputs": [
    {
     "data": {
      "text/plain": [
       "(30111, 25)"
      ]
     },
     "execution_count": 12,
     "metadata": {},
     "output_type": "execute_result"
    }
   ],
   "source": [
    "#check the shape of the data verify as well\n",
    "df.shape"
   ]
  },
  {
   "cell_type": "code",
   "execution_count": 13,
   "metadata": {},
   "outputs": [
    {
     "data": {
      "text/plain": [
       "Index(['id', 'datesold', 'price', 'bedrooms', 'bathrooms', 'sqft_living',\n",
       "       'sqft_lot', 'floors', 'waterfront', 'greenbelt', 'nuisance', 'view',\n",
       "       'condition', 'grade', 'heat_source', 'sewer_system', 'sqft_above',\n",
       "       'sqft_basement', 'sqft_garage', 'sqft_patio', 'yr_built',\n",
       "       'yr_renovated', 'address', 'lat', 'long'],\n",
       "      dtype='object')"
      ]
     },
     "execution_count": 13,
     "metadata": {},
     "output_type": "execute_result"
    }
   ],
   "source": [
    "#changing the date column label to date sold to clarify what the information is representing\n",
    "sold = {\"date\" : \"datesold\"}\n",
    "df.rename(columns=sold, inplace=True)\n",
    "df.columns"
   ]
  },
  {
   "cell_type": "code",
   "execution_count": 14,
   "metadata": {},
   "outputs": [
    {
     "data": {
      "text/plain": [
       "id                        int64\n",
       "datesold         datetime64[ns]\n",
       "price                   float64\n",
       "bedrooms                  int64\n",
       "bathrooms               float64\n",
       "sqft_living               int64\n",
       "sqft_lot                  int64\n",
       "floors                  float64\n",
       "waterfront               object\n",
       "greenbelt                object\n",
       "nuisance                 object\n",
       "view                     object\n",
       "condition                object\n",
       "grade                    object\n",
       "heat_source              object\n",
       "sewer_system             object\n",
       "sqft_above                int64\n",
       "sqft_basement             int64\n",
       "sqft_garage               int64\n",
       "sqft_patio                int64\n",
       "yr_built                  int64\n",
       "yr_renovated              int64\n",
       "address                  object\n",
       "lat                     float64\n",
       "long                    float64\n",
       "dtype: object"
      ]
     },
     "execution_count": 14,
     "metadata": {},
     "output_type": "execute_result"
    }
   ],
   "source": [
    "#changing our datesold column from type object to type datetime \n",
    "df.datesold = df.datesold.apply(lambda x: pd.to_datetime(x, yearfirst=True))\n",
    "df.dtypes"
   ]
  },
  {
   "cell_type": "code",
   "execution_count": 15,
   "metadata": {
    "scrolled": true
   },
   "outputs": [
    {
     "data": {
      "text/plain": [
       "Index(['id', 'datesold', 'price', 'bedrooms', 'bathrooms', 'sqft_living',\n",
       "       'sqft_lot', 'floors', 'waterfront', 'greenbelt', 'nuisance', 'view',\n",
       "       'condition', 'grade', 'heat_source', 'sewer_system', 'sqft_above',\n",
       "       'sqft_basement', 'sqft_garage', 'sqft_patio', 'yr_built',\n",
       "       'yr_renovated', 'address', 'lat', 'long', 'age'],\n",
       "      dtype='object')"
      ]
     },
     "execution_count": 15,
     "metadata": {},
     "output_type": "execute_result"
    }
   ],
   "source": [
    "#creating a new colume, 'age', from the 'yr_renovated' and 'yr_built' columns\n",
    "df[\"age\"] = np.where(df[\"yr_renovated\"] != 0, df.datesold.apply(lambda x:x.year) - df[\"yr_renovated\"],\n",
    "df[\"datesold\"].apply(lambda x:x.year) - df[\"yr_built\"])\n",
    "df.columns"
   ]
  },
  {
   "cell_type": "code",
   "execution_count": 16,
   "metadata": {},
   "outputs": [
    {
     "data": {
      "text/plain": [
       "Index(['price', 'bedrooms', 'bathrooms', 'sqft_living', 'sqft_lot', 'floors',\n",
       "       'waterfront', 'greenbelt', 'nuisance', 'view', 'condition', 'grade',\n",
       "       'heat_source', 'sewer_system', 'sqft_above', 'sqft_basement',\n",
       "       'sqft_garage', 'sqft_patio', 'address', 'age'],\n",
       "      dtype='object')"
      ]
     },
     "execution_count": 16,
     "metadata": {},
     "output_type": "execute_result"
    }
   ],
   "source": [
    "#removing current irrelevant columns\n",
    "df.drop(axis = 1, labels = {'datesold','id', 'yr_renovated', 'yr_built','lat', 'long'}, inplace = True)\n",
    "df.columns"
   ]
  },
  {
   "cell_type": "code",
   "execution_count": 17,
   "metadata": {
    "scrolled": true
   },
   "outputs": [
    {
     "data": {
      "text/plain": [
       "price            float64\n",
       "bedrooms           int64\n",
       "bathrooms        float64\n",
       "sqft_living        int64\n",
       "sqft_lot           int64\n",
       "floors           float64\n",
       "waterfront        object\n",
       "greenbelt         object\n",
       "nuisance          object\n",
       "view              object\n",
       "condition         object\n",
       "grade             object\n",
       "heat_source       object\n",
       "sewer_system      object\n",
       "sqft_above         int64\n",
       "sqft_basement      int64\n",
       "sqft_garage        int64\n",
       "sqft_patio         int64\n",
       "address           object\n",
       "age                int64\n",
       "dtype: object"
      ]
     },
     "execution_count": 17,
     "metadata": {},
     "output_type": "execute_result"
    }
   ],
   "source": [
    "df.dtypes"
   ]
  },
  {
   "cell_type": "code",
   "execution_count": 18,
   "metadata": {},
   "outputs": [
    {
     "data": {
      "text/plain": [
       "30150    4673 Eastern Avenue North, Seattle, Washington...\n",
       "30151    4131 44th Avenue Southwest, Seattle, Washingto...\n",
       "30152    910 Martin Luther King Jr Way, Seattle, Washin...\n",
       "30153    17127 114th Avenue Southeast, Renton, Washingt...\n",
       "30154    18615 7th Avenue South, Burien, Washington 981...\n",
       "Name: address, dtype: object"
      ]
     },
     "execution_count": 18,
     "metadata": {},
     "output_type": "execute_result"
    }
   ],
   "source": [
    "#review the address data to determine how to create a new zipcode column\n",
    "df.address.tail()"
   ]
  },
  {
   "cell_type": "code",
   "execution_count": 19,
   "metadata": {},
   "outputs": [
    {
     "data": {
      "text/plain": [
       "'98115'"
      ]
     },
     "execution_count": 19,
     "metadata": {},
     "output_type": "execute_result"
    }
   ],
   "source": [
    "df.address[30111][-20:-15]"
   ]
  },
  {
   "cell_type": "code",
   "execution_count": 20,
   "metadata": {
    "scrolled": true
   },
   "outputs": [
    {
     "data": {
      "text/plain": [
       "'98115'"
      ]
     },
     "execution_count": 20,
     "metadata": {},
     "output_type": "execute_result"
    }
   ],
   "source": [
    "df.address[30111].split(',')[2][-5:]"
   ]
  },
  {
   "cell_type": "code",
   "execution_count": 21,
   "metadata": {},
   "outputs": [],
   "source": [
    "df[\"zips\"] = df.address.apply(lambda x: x[-20:-15])"
   ]
  },
  {
   "cell_type": "code",
   "execution_count": 22,
   "metadata": {
    "scrolled": true
   },
   "outputs": [
    {
     "data": {
      "text/plain": [
       "23661    98023\n",
       "21486    98005\n",
       "20666    98133\n",
       "11912    98011\n",
       "21454    98118\n",
       "Name: zips, dtype: object"
      ]
     },
     "execution_count": 22,
     "metadata": {},
     "output_type": "execute_result"
    }
   ],
   "source": [
    "#sampling the new 'zips' column to check format\n",
    "df.zips.sample(5)"
   ]
  },
  {
   "cell_type": "code",
   "execution_count": 23,
   "metadata": {},
   "outputs": [
    {
     "data": {
      "text/plain": [
       "(30111, 21)"
      ]
     },
     "execution_count": 23,
     "metadata": {},
     "output_type": "execute_result"
    }
   ],
   "source": [
    "df.shape"
   ]
  },
  {
   "cell_type": "code",
   "execution_count": 24,
   "metadata": {},
   "outputs": [],
   "source": [
    "#now that we've separated the zip codes, we can remove the 'address' column\n",
    "df.drop(axis = 1, labels = 'address', inplace = True)"
   ]
  },
  {
   "cell_type": "code",
   "execution_count": 25,
   "metadata": {},
   "outputs": [
    {
     "data": {
      "text/plain": [
       "(30111, 20)"
      ]
     },
     "execution_count": 25,
     "metadata": {},
     "output_type": "execute_result"
    }
   ],
   "source": [
    "#verify column removed\n",
    "df.shape"
   ]
  },
  {
   "cell_type": "markdown",
   "metadata": {},
   "source": [
    "## Modeling"
   ]
  },
  {
   "cell_type": "markdown",
   "metadata": {
    "index": 35
   },
   "source": [
    "### Baseline Model"
   ]
  },
  {
   "cell_type": "code",
   "execution_count": 26,
   "metadata": {},
   "outputs": [
    {
     "name": "stdout",
     "output_type": "stream",
     "text": [
      "<class 'pandas.core.frame.DataFrame'>\n",
      "Int64Index: 30111 entries, 0 to 30154\n",
      "Data columns (total 20 columns):\n",
      " #   Column         Non-Null Count  Dtype  \n",
      "---  ------         --------------  -----  \n",
      " 0   price          30111 non-null  float64\n",
      " 1   bedrooms       30111 non-null  int64  \n",
      " 2   bathrooms      30111 non-null  float64\n",
      " 3   sqft_living    30111 non-null  int64  \n",
      " 4   sqft_lot       30111 non-null  int64  \n",
      " 5   floors         30111 non-null  float64\n",
      " 6   waterfront     30111 non-null  object \n",
      " 7   greenbelt      30111 non-null  object \n",
      " 8   nuisance       30111 non-null  object \n",
      " 9   view           30111 non-null  object \n",
      " 10  condition      30111 non-null  object \n",
      " 11  grade          30111 non-null  object \n",
      " 12  heat_source    30111 non-null  object \n",
      " 13  sewer_system   30111 non-null  object \n",
      " 14  sqft_above     30111 non-null  int64  \n",
      " 15  sqft_basement  30111 non-null  int64  \n",
      " 16  sqft_garage    30111 non-null  int64  \n",
      " 17  sqft_patio     30111 non-null  int64  \n",
      " 18  age            30111 non-null  int64  \n",
      " 19  zips           30111 non-null  object \n",
      "dtypes: float64(3), int64(8), object(9)\n",
      "memory usage: 5.8+ MB\n"
     ]
    }
   ],
   "source": [
    "#review updated dataframe\n",
    "df.info()"
   ]
  },
  {
   "cell_type": "code",
   "execution_count": 27,
   "metadata": {
    "scrolled": false
   },
   "outputs": [
    {
     "data": {
      "text/plain": [
       "count     30111\n",
       "unique        5\n",
       "top        NONE\n",
       "freq      26555\n",
       "Name: view, dtype: object"
      ]
     },
     "execution_count": 27,
     "metadata": {},
     "output_type": "execute_result"
    }
   ],
   "source": [
    "#Checking our 'view' column we see that 'NONE' is the most frequent response\n",
    "#at this point we also meet our number of rows, entries, requirements\n",
    "df.view.describe()"
   ]
  },
  {
   "cell_type": "code",
   "execution_count": 28,
   "metadata": {},
   "outputs": [
    {
     "data": {
      "text/plain": [
       "bedrooms           int64\n",
       "bathrooms        float64\n",
       "sqft_living        int64\n",
       "sqft_lot           int64\n",
       "floors           float64\n",
       "sqft_above         int64\n",
       "sqft_basement      int64\n",
       "sqft_garage        int64\n",
       "sqft_patio         int64\n",
       "age                int64\n",
       "dtype: object"
      ]
     },
     "execution_count": 28,
     "metadata": {},
     "output_type": "execute_result"
    }
   ],
   "source": [
    "#creating new dataframe with only numerical values\n",
    "df_num = df[[\"bedrooms\",\"bathrooms\",\"sqft_living\",\"sqft_lot\",\"floors\",\"sqft_above\",\"sqft_basement\",\"sqft_garage\",\"sqft_patio\",\"age\"]]\n",
    "df_num.dtypes"
   ]
  },
  {
   "cell_type": "code",
   "execution_count": 29,
   "metadata": {},
   "outputs": [],
   "source": [
    "#using just the initial numerical values to create baseline model\n",
    "pred = df_num\n",
    "target = df.price"
   ]
  },
  {
   "cell_type": "code",
   "execution_count": 30,
   "metadata": {},
   "outputs": [],
   "source": [
    "#assigning X and y values\n",
    "X = pred\n",
    "y = target"
   ]
  },
  {
   "cell_type": "code",
   "execution_count": 31,
   "metadata": {
    "scrolled": true
   },
   "outputs": [
    {
     "name": "stdout",
     "output_type": "stream",
     "text": [
      "                            OLS Regression Results                            \n",
      "==============================================================================\n",
      "Dep. Variable:                  price   R-squared:                       0.409\n",
      "Model:                            OLS   Adj. R-squared:                  0.409\n",
      "Method:                 Least Squares   F-statistic:                     2086.\n",
      "Date:                Mon, 03 Oct 2022   Prob (F-statistic):               0.00\n",
      "Time:                        01:13:58   Log-Likelihood:            -4.4751e+05\n",
      "No. Observations:               30111   AIC:                         8.950e+05\n",
      "Df Residuals:                   30100   BIC:                         8.951e+05\n",
      "Df Model:                          10                                         \n",
      "Covariance Type:            nonrobust                                         \n",
      "=================================================================================\n",
      "                    coef    std err          t      P>|t|      [0.025      0.975]\n",
      "---------------------------------------------------------------------------------\n",
      "const         -4.477e+04   2.44e+04     -1.834      0.067   -9.26e+04    3087.640\n",
      "bedrooms       -1.69e+05   5484.557    -30.819      0.000    -1.8e+05   -1.58e+05\n",
      "bathrooms      1.393e+05   8104.367     17.187      0.000    1.23e+05    1.55e+05\n",
      "sqft_living     328.2023     18.372     17.865      0.000     292.193     364.211\n",
      "sqft_lot         -0.0928      0.068     -1.363      0.173      -0.226       0.041\n",
      "floors        -1.519e+04   9670.910     -1.571      0.116   -3.41e+04    3767.188\n",
      "sqft_above      301.8909     18.693     16.150      0.000     265.252     338.530\n",
      "sqft_basement   179.7903     13.703     13.121      0.000     152.932     206.648\n",
      "sqft_garage    -213.1726     18.516    -11.513      0.000    -249.465    -176.880\n",
      "sqft_patio      276.6360     17.993     15.375      0.000     241.370     311.902\n",
      "age            2643.4497    179.899     14.694      0.000    2290.840    2996.060\n",
      "==============================================================================\n",
      "Omnibus:                    42937.410   Durbin-Watson:                   1.852\n",
      "Prob(Omnibus):                  0.000   Jarque-Bera (JB):         46741256.953\n",
      "Skew:                           8.017   Prob(JB):                         0.00\n",
      "Kurtosis:                     195.349   Cond. No.                     3.97e+05\n",
      "==============================================================================\n",
      "\n",
      "Notes:\n",
      "[1] Standard Errors assume that the covariance matrix of the errors is correctly specified.\n",
      "[2] The condition number is large, 3.97e+05. This might indicate that there are\n",
      "strong multicollinearity or other numerical problems.\n"
     ]
    },
    {
     "name": "stderr",
     "output_type": "stream",
     "text": [
      "/opt/conda/lib/python3.9/site-packages/statsmodels/tsa/tsatools.py:142: FutureWarning: In a future version of pandas all arguments of concat except for the argument 'objs' will be keyword-only\n",
      "  x = pd.concat(x[::order], 1)\n"
     ]
    }
   ],
   "source": [
    "baseline = sm.OLS(y, sm.add_constant(X))\n",
    "results = baseline.fit()\n",
    "print(results.summary())"
   ]
  },
  {
   "cell_type": "markdown",
   "metadata": {},
   "source": [
    "### Our R-squared is less 40.9% using just the current numerical values as predictors and 'price' as our target. Our F-statistic and P-values are sbelow .5 as well.\n",
    "\n",
    "### We will create some dummy variables for our catagorical columns"
   ]
  },
  {
   "cell_type": "code",
   "execution_count": 32,
   "metadata": {
    "scrolled": true
   },
   "outputs": [
    {
     "data": {
      "text/plain": [
       "<AxesSubplot:>"
      ]
     },
     "execution_count": 32,
     "metadata": {},
     "output_type": "execute_result"
    },
    {
     "data": {
      "image/png": "[encoded data removed]",
      "text/plain": [
       "<Figure size 432x288 with 2 Axes>"
      ]
     },
     "metadata": {},
     "output_type": "display_data"
    }
   ],
   "source": [
    "#checking for multicollinearity\n",
    "sns.heatmap(X.corr())"
   ]
  },
  {
   "cell_type": "markdown",
   "metadata": {},
   "source": [
    "### We see that 'sqft_living' and 'sqft_above' (how many square feet of living space is above ground) are most correlated"
   ]
  },
  {
   "cell_type": "code",
   "execution_count": 33,
   "metadata": {},
   "outputs": [
    {
     "data": {
      "text/html": [
       "<div>\n",
       "<style scoped>\n",
       "    .dataframe tbody tr th:only-of-type {\n",
       "        vertical-align: middle;\n",
       "    }\n",
       "\n",
       "    .dataframe tbody tr th {\n",
       "        vertical-align: top;\n",
       "    }\n",
       "\n",
       "    .dataframe thead th {\n",
       "        text-align: right;\n",
       "    }\n",
       "</style>\n",
       "<table border=\"1\" class=\"dataframe\">\n",
       "  <thead>\n",
       "    <tr style=\"text-align: right;\">\n",
       "      <th></th>\n",
       "      <th>price</th>\n",
       "      <th>bedrooms</th>\n",
       "      <th>bathrooms</th>\n",
       "      <th>sqft_living</th>\n",
       "      <th>sqft_lot</th>\n",
       "      <th>floors</th>\n",
       "      <th>sqft_above</th>\n",
       "      <th>sqft_basement</th>\n",
       "      <th>sqft_garage</th>\n",
       "      <th>sqft_patio</th>\n",
       "      <th>age</th>\n",
       "    </tr>\n",
       "  </thead>\n",
       "  <tbody>\n",
       "    <tr>\n",
       "      <th>price</th>\n",
       "      <td>1.000000</td>\n",
       "      <td>0.288954</td>\n",
       "      <td>0.480337</td>\n",
       "      <td>0.608616</td>\n",
       "      <td>0.086550</td>\n",
       "      <td>0.180589</td>\n",
       "      <td>0.538631</td>\n",
       "      <td>0.245005</td>\n",
       "      <td>0.263674</td>\n",
       "      <td>0.313789</td>\n",
       "      <td>-0.126909</td>\n",
       "    </tr>\n",
       "    <tr>\n",
       "      <th>bedrooms</th>\n",
       "      <td>0.288954</td>\n",
       "      <td>1.000000</td>\n",
       "      <td>0.588035</td>\n",
       "      <td>0.637048</td>\n",
       "      <td>0.006215</td>\n",
       "      <td>0.146871</td>\n",
       "      <td>0.546221</td>\n",
       "      <td>0.237957</td>\n",
       "      <td>0.318110</td>\n",
       "      <td>0.183660</td>\n",
       "      <td>-0.156650</td>\n",
       "    </tr>\n",
       "    <tr>\n",
       "      <th>bathrooms</th>\n",
       "      <td>0.480337</td>\n",
       "      <td>0.588035</td>\n",
       "      <td>1.000000</td>\n",
       "      <td>0.772226</td>\n",
       "      <td>0.038028</td>\n",
       "      <td>0.404291</td>\n",
       "      <td>0.674239</td>\n",
       "      <td>0.260684</td>\n",
       "      <td>0.456264</td>\n",
       "      <td>0.327982</td>\n",
       "      <td>-0.471854</td>\n",
       "    </tr>\n",
       "    <tr>\n",
       "      <th>sqft_living</th>\n",
       "      <td>0.608616</td>\n",
       "      <td>0.637048</td>\n",
       "      <td>0.772226</td>\n",
       "      <td>1.000000</td>\n",
       "      <td>0.122271</td>\n",
       "      <td>0.303911</td>\n",
       "      <td>0.883733</td>\n",
       "      <td>0.338387</td>\n",
       "      <td>0.510967</td>\n",
       "      <td>0.396530</td>\n",
       "      <td>-0.312269</td>\n",
       "    </tr>\n",
       "    <tr>\n",
       "      <th>sqft_lot</th>\n",
       "      <td>0.086550</td>\n",
       "      <td>0.006215</td>\n",
       "      <td>0.038028</td>\n",
       "      <td>0.122271</td>\n",
       "      <td>1.000000</td>\n",
       "      <td>-0.031555</td>\n",
       "      <td>0.131756</td>\n",
       "      <td>0.004457</td>\n",
       "      <td>0.089318</td>\n",
       "      <td>0.154575</td>\n",
       "      <td>-0.003427</td>\n",
       "    </tr>\n",
       "    <tr>\n",
       "      <th>floors</th>\n",
       "      <td>0.180589</td>\n",
       "      <td>0.146871</td>\n",
       "      <td>0.404291</td>\n",
       "      <td>0.303911</td>\n",
       "      <td>-0.031555</td>\n",
       "      <td>1.000000</td>\n",
       "      <td>0.448245</td>\n",
       "      <td>-0.248466</td>\n",
       "      <td>0.132363</td>\n",
       "      <td>0.125016</td>\n",
       "      <td>-0.552862</td>\n",
       "    </tr>\n",
       "    <tr>\n",
       "      <th>sqft_above</th>\n",
       "      <td>0.538631</td>\n",
       "      <td>0.546221</td>\n",
       "      <td>0.674239</td>\n",
       "      <td>0.883733</td>\n",
       "      <td>0.131756</td>\n",
       "      <td>0.448245</td>\n",
       "      <td>1.000000</td>\n",
       "      <td>-0.067306</td>\n",
       "      <td>0.559972</td>\n",
       "      <td>0.312593</td>\n",
       "      <td>-0.397502</td>\n",
       "    </tr>\n",
       "    <tr>\n",
       "      <th>sqft_basement</th>\n",
       "      <td>0.245005</td>\n",
       "      <td>0.237957</td>\n",
       "      <td>0.260684</td>\n",
       "      <td>0.338387</td>\n",
       "      <td>0.004457</td>\n",
       "      <td>-0.248466</td>\n",
       "      <td>-0.067306</td>\n",
       "      <td>1.000000</td>\n",
       "      <td>0.025766</td>\n",
       "      <td>0.210305</td>\n",
       "      <td>0.211054</td>\n",
       "    </tr>\n",
       "    <tr>\n",
       "      <th>sqft_garage</th>\n",
       "      <td>0.263674</td>\n",
       "      <td>0.318110</td>\n",
       "      <td>0.456264</td>\n",
       "      <td>0.510967</td>\n",
       "      <td>0.089318</td>\n",
       "      <td>0.132363</td>\n",
       "      <td>0.559972</td>\n",
       "      <td>0.025766</td>\n",
       "      <td>1.000000</td>\n",
       "      <td>0.216512</td>\n",
       "      <td>-0.409075</td>\n",
       "    </tr>\n",
       "    <tr>\n",
       "      <th>sqft_patio</th>\n",
       "      <td>0.313789</td>\n",
       "      <td>0.183660</td>\n",
       "      <td>0.327982</td>\n",
       "      <td>0.396530</td>\n",
       "      <td>0.154575</td>\n",
       "      <td>0.125016</td>\n",
       "      <td>0.312593</td>\n",
       "      <td>0.210305</td>\n",
       "      <td>0.216512</td>\n",
       "      <td>1.000000</td>\n",
       "      <td>-0.157426</td>\n",
       "    </tr>\n",
       "    <tr>\n",
       "      <th>age</th>\n",
       "      <td>-0.126909</td>\n",
       "      <td>-0.156650</td>\n",
       "      <td>-0.471854</td>\n",
       "      <td>-0.312269</td>\n",
       "      <td>-0.003427</td>\n",
       "      <td>-0.552862</td>\n",
       "      <td>-0.397502</td>\n",
       "      <td>0.211054</td>\n",
       "      <td>-0.409075</td>\n",
       "      <td>-0.157426</td>\n",
       "      <td>1.000000</td>\n",
       "    </tr>\n",
       "  </tbody>\n",
       "</table>\n",
       "</div>"
      ],
      "text/plain": [
       "                  price  bedrooms  bathrooms  sqft_living  sqft_lot    floors  \\\n",
       "price          1.000000  0.288954   0.480337     0.608616  0.086550  0.180589   \n",
       "bedrooms       0.288954  1.000000   0.588035     0.637048  0.006215  0.146871   \n",
       "bathrooms      0.480337  0.588035   1.000000     0.772226  0.038028  0.404291   \n",
       "sqft_living    0.608616  0.637048   0.772226     1.000000  0.122271  0.303911   \n",
       "sqft_lot       0.086550  0.006215   0.038028     0.122271  1.000000 -0.031555   \n",
       "floors         0.180589  0.146871   0.404291     0.303911 -0.031555  1.000000   \n",
       "sqft_above     0.538631  0.546221   0.674239     0.883733  0.131756  0.448245   \n",
       "sqft_basement  0.245005  0.237957   0.260684     0.338387  0.004457 -0.248466   \n",
       "sqft_garage    0.263674  0.318110   0.456264     0.510967  0.089318  0.132363   \n",
       "sqft_patio     0.313789  0.183660   0.327982     0.396530  0.154575  0.125016   \n",
       "age           -0.126909 -0.156650  -0.471854    -0.312269 -0.003427 -0.552862   \n",
       "\n",
       "               sqft_above  sqft_basement  sqft_garage  sqft_patio       age  \n",
       "price            0.538631       0.245005     0.263674    0.313789 -0.126909  \n",
       "bedrooms         0.546221       0.237957     0.318110    0.183660 -0.156650  \n",
       "bathrooms        0.674239       0.260684     0.456264    0.327982 -0.471854  \n",
       "sqft_living      0.883733       0.338387     0.510967    0.396530 -0.312269  \n",
       "sqft_lot         0.131756       0.004457     0.089318    0.154575 -0.003427  \n",
       "floors           0.448245      -0.248466     0.132363    0.125016 -0.552862  \n",
       "sqft_above       1.000000      -0.067306     0.559972    0.312593 -0.397502  \n",
       "sqft_basement   -0.067306       1.000000     0.025766    0.210305  0.211054  \n",
       "sqft_garage      0.559972       0.025766     1.000000    0.216512 -0.409075  \n",
       "sqft_patio       0.312593       0.210305     0.216512    1.000000 -0.157426  \n",
       "age             -0.397502       0.211054    -0.409075   -0.157426  1.000000  "
      ]
     },
     "execution_count": 33,
     "metadata": {},
     "output_type": "execute_result"
    }
   ],
   "source": [
    "df.corr()"
   ]
  },
  {
   "cell_type": "code",
   "execution_count": 34,
   "metadata": {},
   "outputs": [
    {
     "data": {
      "text/plain": [
       "0.8837330776377422"
      ]
     },
     "execution_count": 34,
     "metadata": {},
     "output_type": "execute_result"
    }
   ],
   "source": [
    "df.sqft_above.corr(df.sqft_living)"
   ]
  },
  {
   "cell_type": "markdown",
   "metadata": {},
   "source": [
    "### Model Iteration"
   ]
  },
  {
   "cell_type": "code",
   "execution_count": 35,
   "metadata": {},
   "outputs": [
    {
     "name": "stdout",
     "output_type": "stream",
     "text": [
      "<class 'pandas.core.frame.DataFrame'>\n",
      "Int64Index: 30111 entries, 0 to 30154\n",
      "Data columns (total 20 columns):\n",
      " #   Column         Non-Null Count  Dtype  \n",
      "---  ------         --------------  -----  \n",
      " 0   price          30111 non-null  float64\n",
      " 1   bedrooms       30111 non-null  int64  \n",
      " 2   bathrooms      30111 non-null  float64\n",
      " 3   sqft_living    30111 non-null  int64  \n",
      " 4   sqft_lot       30111 non-null  int64  \n",
      " 5   floors         30111 non-null  float64\n",
      " 6   waterfront     30111 non-null  object \n",
      " 7   greenbelt      30111 non-null  object \n",
      " 8   nuisance       30111 non-null  object \n",
      " 9   view           30111 non-null  object \n",
      " 10  condition      30111 non-null  object \n",
      " 11  grade          30111 non-null  object \n",
      " 12  heat_source    30111 non-null  object \n",
      " 13  sewer_system   30111 non-null  object \n",
      " 14  sqft_above     30111 non-null  int64  \n",
      " 15  sqft_basement  30111 non-null  int64  \n",
      " 16  sqft_garage    30111 non-null  int64  \n",
      " 17  sqft_patio     30111 non-null  int64  \n",
      " 18  age            30111 non-null  int64  \n",
      " 19  zips           30111 non-null  object \n",
      "dtypes: float64(3), int64(8), object(9)\n",
      "memory usage: 5.8+ MB\n"
     ]
    }
   ],
   "source": [
    "#reviewing data for catagorical columns\n",
    "df.info()"
   ]
  },
  {
   "cell_type": "code",
   "execution_count": 36,
   "metadata": {
    "scrolled": true
   },
   "outputs": [
    {
     "data": {
      "text/plain": [
       "waterfront  greenbelt  nuisance  view     condition  grade          heat_source  sewer_system  zips \n",
       "NO          NO         NO        NONE     Average    8 Good         Gas          PUBLIC        98042    204\n",
       "                                                                                               98038    184\n",
       "                                                                                               98010    163\n",
       "                                                                                               98058    139\n",
       "                                                     7 Average      Gas          PUBLIC        98038    135\n",
       "                                                                                                       ... \n",
       "                                          Fair       6 Low Average  Oil          PUBLIC        98118      1\n",
       "                                                                                               98117      1\n",
       "                                                                                               98115      1\n",
       "                                                                                               98108      1\n",
       "YES         YES        NO        AVERAGE  Good       12 Luxury      Gas          PUBLIC        98077      1\n",
       "Length: 7534, dtype: int64"
      ]
     },
     "execution_count": 36,
     "metadata": {},
     "output_type": "execute_result"
    }
   ],
   "source": [
    "#reviewing a sample of the types of values in the catagorical values\n",
    "df[[\"waterfront\", \"greenbelt\", \"nuisance\", \"view\", \"condition\", \"grade\", \"heat_source\", \"sewer_system\", \"zips\"]].value_counts()"
   ]
  },
  {
   "cell_type": "code",
   "execution_count": 37,
   "metadata": {
    "scrolled": true
   },
   "outputs": [
    {
     "name": "stdout",
     "output_type": "stream",
     "text": [
      "<class 'pandas.core.frame.DataFrame'>\n",
      "Int64Index: 30111 entries, 0 to 30154\n",
      "Data columns (total 43 columns):\n",
      " #   Column                           Non-Null Count  Dtype  \n",
      "---  ------                           --------------  -----  \n",
      " 0   price                            30111 non-null  float64\n",
      " 1   bedrooms                         30111 non-null  int64  \n",
      " 2   bathrooms                        30111 non-null  float64\n",
      " 3   sqft_living                      30111 non-null  int64  \n",
      " 4   sqft_lot                         30111 non-null  int64  \n",
      " 5   floors                           30111 non-null  float64\n",
      " 6   sqft_above                       30111 non-null  int64  \n",
      " 7   sqft_basement                    30111 non-null  int64  \n",
      " 8   sqft_garage                      30111 non-null  int64  \n",
      " 9   sqft_patio                       30111 non-null  int64  \n",
      " 10  age                              30111 non-null  int64  \n",
      " 11  zips                             30111 non-null  object \n",
      " 12  waterfront_YES                   30111 non-null  uint8  \n",
      " 13  greenbelt_YES                    30111 non-null  uint8  \n",
      " 14  nuisance_YES                     30111 non-null  uint8  \n",
      " 15  view_EXCELLENT                   30111 non-null  uint8  \n",
      " 16  view_FAIR                        30111 non-null  uint8  \n",
      " 17  view_GOOD                        30111 non-null  uint8  \n",
      " 18  view_NONE                        30111 non-null  uint8  \n",
      " 19  condition_Fair                   30111 non-null  uint8  \n",
      " 20  condition_Good                   30111 non-null  uint8  \n",
      " 21  condition_Poor                   30111 non-null  uint8  \n",
      " 22  condition_Very Good              30111 non-null  uint8  \n",
      " 23  grade_11 Excellent               30111 non-null  uint8  \n",
      " 24  grade_12 Luxury                  30111 non-null  uint8  \n",
      " 25  grade_13 Mansion                 30111 non-null  uint8  \n",
      " 26  grade_2 Substandard              30111 non-null  uint8  \n",
      " 27  grade_3 Poor                     30111 non-null  uint8  \n",
      " 28  grade_4 Low                      30111 non-null  uint8  \n",
      " 29  grade_5 Fair                     30111 non-null  uint8  \n",
      " 30  grade_6 Low Average              30111 non-null  uint8  \n",
      " 31  grade_7 Average                  30111 non-null  uint8  \n",
      " 32  grade_8 Good                     30111 non-null  uint8  \n",
      " 33  grade_9 Better                   30111 non-null  uint8  \n",
      " 34  heat_source_Electricity/Solar    30111 non-null  uint8  \n",
      " 35  heat_source_Gas                  30111 non-null  uint8  \n",
      " 36  heat_source_Gas/Solar            30111 non-null  uint8  \n",
      " 37  heat_source_Oil                  30111 non-null  uint8  \n",
      " 38  heat_source_Oil/Solar            30111 non-null  uint8  \n",
      " 39  heat_source_Other                30111 non-null  uint8  \n",
      " 40  sewer_system_PRIVATE RESTRICTED  30111 non-null  uint8  \n",
      " 41  sewer_system_PUBLIC              30111 non-null  uint8  \n",
      " 42  sewer_system_PUBLIC RESTRICTED   30111 non-null  uint8  \n",
      "dtypes: float64(3), int64(8), object(1), uint8(31)\n",
      "memory usage: 4.9+ MB\n"
     ]
    }
   ],
   "source": [
    "#creating a dataframe catagorical dummy values, excluding zipcodes as we do not need them at this time \n",
    "#and they will highly skew our results\n",
    "cats= [\"waterfront\", \"greenbelt\", \"nuisance\", \"view\", \"condition\", \"grade\", \"heat_source\", \"sewer_system\"]\n",
    "df_dummy= pd.get_dummies(data = df, columns = cats, drop_first=True)\n",
    "df_dummy.info()"
   ]
  },
  {
   "cell_type": "code",
   "execution_count": 38,
   "metadata": {
    "scrolled": true
   },
   "outputs": [
    {
     "name": "stdout",
     "output_type": "stream",
     "text": [
      "<class 'pandas.core.frame.DataFrame'>\n",
      "Int64Index: 30111 entries, 0 to 30154\n",
      "Data columns (total 43 columns):\n",
      " #   Column                           Non-Null Count  Dtype  \n",
      "---  ------                           --------------  -----  \n",
      " 0   price                            30111 non-null  float64\n",
      " 1   bedrooms                         30111 non-null  int64  \n",
      " 2   bathrooms                        30111 non-null  float64\n",
      " 3   sqft_living                      30111 non-null  int64  \n",
      " 4   sqft_lot                         30111 non-null  int64  \n",
      " 5   floors                           30111 non-null  float64\n",
      " 6   sqft_above                       30111 non-null  int64  \n",
      " 7   sqft_basement                    30111 non-null  int64  \n",
      " 8   sqft_garage                      30111 non-null  int64  \n",
      " 9   sqft_patio                       30111 non-null  int64  \n",
      " 10  age                              30111 non-null  int64  \n",
      " 11  zips                             30111 non-null  object \n",
      " 12  waterfront_YES                   30111 non-null  uint8  \n",
      " 13  greenbelt_YES                    30111 non-null  uint8  \n",
      " 14  nuisance_YES                     30111 non-null  uint8  \n",
      " 15  view_EXCELLENT                   30111 non-null  uint8  \n",
      " 16  view_FAIR                        30111 non-null  uint8  \n",
      " 17  view_GOOD                        30111 non-null  uint8  \n",
      " 18  view_NONE                        30111 non-null  uint8  \n",
      " 19  condition_Fair                   30111 non-null  uint8  \n",
      " 20  condition_Good                   30111 non-null  uint8  \n",
      " 21  condition_Poor                   30111 non-null  uint8  \n",
      " 22  condition_Very_Good              30111 non-null  uint8  \n",
      " 23  grade_11_Excellent               30111 non-null  uint8  \n",
      " 24  grade_12_Luxury                  30111 non-null  uint8  \n",
      " 25  grade_13_Mansion                 30111 non-null  uint8  \n",
      " 26  grade_2_Substandard              30111 non-null  uint8  \n",
      " 27  grade_3_Poor                     30111 non-null  uint8  \n",
      " 28  grade_4_Low                      30111 non-null  uint8  \n",
      " 29  grade_5_Fair                     30111 non-null  uint8  \n",
      " 30  grade_6_Low_Average              30111 non-null  uint8  \n",
      " 31  grade_7_Average                  30111 non-null  uint8  \n",
      " 32  grade_8_Good                     30111 non-null  uint8  \n",
      " 33  grade_9_Better                   30111 non-null  uint8  \n",
      " 34  heat_source_Electricity/Solar    30111 non-null  uint8  \n",
      " 35  heat_source_Gas                  30111 non-null  uint8  \n",
      " 36  heat_source_Gas/Solar            30111 non-null  uint8  \n",
      " 37  heat_source_Oil                  30111 non-null  uint8  \n",
      " 38  heat_source_Oil/Solar            30111 non-null  uint8  \n",
      " 39  heat_source_Other                30111 non-null  uint8  \n",
      " 40  sewer_system_PRIVATE_RESTRICTED  30111 non-null  uint8  \n",
      " 41  sewer_system_PUBLIC              30111 non-null  uint8  \n",
      " 42  sewer_system_PUBLIC_RESTRICTED   30111 non-null  uint8  \n",
      "dtypes: float64(3), int64(8), object(1), uint8(31)\n",
      "memory usage: 4.9+ MB\n"
     ]
    }
   ],
   "source": [
    "#removing spaces from column names and replacing with '_'\n",
    "df_dummy.columns = df_dummy.columns.str.replace(' ', '_')\n",
    "df_dummy.info()"
   ]
  },
  {
   "cell_type": "code",
   "execution_count": 39,
   "metadata": {
    "scrolled": false
   },
   "outputs": [
    {
     "data": {
      "text/plain": [
       "1    26555\n",
       "Name: view_NONE, dtype: int64"
      ]
     },
     "execution_count": 39,
     "metadata": {},
     "output_type": "execute_result"
    }
   ],
   "source": [
    "#creating dataframe with only rows where 'view_NONE' is True\n",
    "nview_df = df_dummy[df_dummy.view_NONE == 1]\n",
    "nview_df.view_NONE.value_counts()"
   ]
  },
  {
   "cell_type": "code",
   "execution_count": 40,
   "metadata": {},
   "outputs": [
    {
     "data": {
      "text/plain": [
       "(26555, 43)"
      ]
     },
     "execution_count": 40,
     "metadata": {},
     "output_type": "execute_result"
    }
   ],
   "source": [
    "#confirming it's the entire df\n",
    "nview_df.shape"
   ]
  },
  {
   "cell_type": "code",
   "execution_count": 41,
   "metadata": {
    "scrolled": false
   },
   "outputs": [
    {
     "name": "stdout",
     "output_type": "stream",
     "text": [
      "<class 'pandas.core.frame.DataFrame'>\n",
      "Int64Index: 26555 entries, 0 to 30154\n",
      "Data columns (total 39 columns):\n",
      " #   Column                           Non-Null Count  Dtype  \n",
      "---  ------                           --------------  -----  \n",
      " 0   price                            26555 non-null  float64\n",
      " 1   bedrooms                         26555 non-null  int64  \n",
      " 2   bathrooms                        26555 non-null  float64\n",
      " 3   sqft_living                      26555 non-null  int64  \n",
      " 4   sqft_lot                         26555 non-null  int64  \n",
      " 5   floors                           26555 non-null  float64\n",
      " 6   sqft_above                       26555 non-null  int64  \n",
      " 7   sqft_basement                    26555 non-null  int64  \n",
      " 8   sqft_garage                      26555 non-null  int64  \n",
      " 9   sqft_patio                       26555 non-null  int64  \n",
      " 10  age                              26555 non-null  int64  \n",
      " 11  zips                             26555 non-null  object \n",
      " 12  waterfront_YES                   26555 non-null  uint8  \n",
      " 13  greenbelt_YES                    26555 non-null  uint8  \n",
      " 14  nuisance_YES                     26555 non-null  uint8  \n",
      " 15  condition_Fair                   26555 non-null  uint8  \n",
      " 16  condition_Good                   26555 non-null  uint8  \n",
      " 17  condition_Poor                   26555 non-null  uint8  \n",
      " 18  condition_Very_Good              26555 non-null  uint8  \n",
      " 19  grade_11_Excellent               26555 non-null  uint8  \n",
      " 20  grade_12_Luxury                  26555 non-null  uint8  \n",
      " 21  grade_13_Mansion                 26555 non-null  uint8  \n",
      " 22  grade_2_Substandard              26555 non-null  uint8  \n",
      " 23  grade_3_Poor                     26555 non-null  uint8  \n",
      " 24  grade_4_Low                      26555 non-null  uint8  \n",
      " 25  grade_5_Fair                     26555 non-null  uint8  \n",
      " 26  grade_6_Low_Average              26555 non-null  uint8  \n",
      " 27  grade_7_Average                  26555 non-null  uint8  \n",
      " 28  grade_8_Good                     26555 non-null  uint8  \n",
      " 29  grade_9_Better                   26555 non-null  uint8  \n",
      " 30  heat_source_Electricity/Solar    26555 non-null  uint8  \n",
      " 31  heat_source_Gas                  26555 non-null  uint8  \n",
      " 32  heat_source_Gas/Solar            26555 non-null  uint8  \n",
      " 33  heat_source_Oil                  26555 non-null  uint8  \n",
      " 34  heat_source_Oil/Solar            26555 non-null  uint8  \n",
      " 35  heat_source_Other                26555 non-null  uint8  \n",
      " 36  sewer_system_PRIVATE_RESTRICTED  26555 non-null  uint8  \n",
      " 37  sewer_system_PUBLIC              26555 non-null  uint8  \n",
      " 38  sewer_system_PUBLIC_RESTRICTED   26555 non-null  uint8  \n",
      "dtypes: float64(3), int64(8), object(1), uint8(27)\n",
      "memory usage: 3.3+ MB\n"
     ]
    },
    {
     "name": "stderr",
     "output_type": "stream",
     "text": [
      "/opt/conda/lib/python3.9/site-packages/pandas/core/frame.py:4901: SettingWithCopyWarning: \n",
      "A value is trying to be set on a copy of a slice from a DataFrame\n",
      "\n",
      "See the caveats in the documentation: https://pandas.pydata.org/pandas-docs/stable/user_guide/indexing.html#returning-a-view-versus-a-copy\n",
      "  return super().drop(\n"
     ]
    }
   ],
   "source": [
    "#remove currently irrelevant 'view' dummy values that are NaN\n",
    "\n",
    "nview_df.drop(axis = 1, labels = {'view_EXCELLENT','view_FAIR', 'view_GOOD', 'view_NONE'}, inplace = True)\n",
    "#verify columns removed\n",
    "nview_df.info()"
   ]
  },
  {
   "cell_type": "code",
   "execution_count": 42,
   "metadata": {},
   "outputs": [
    {
     "data": {
      "text/plain": [
       "(26555, 39)"
      ]
     },
     "execution_count": 42,
     "metadata": {},
     "output_type": "execute_result"
    }
   ],
   "source": [
    "#checking size of new dataframe\n",
    "nview_df.shape"
   ]
  },
  {
   "cell_type": "code",
   "execution_count": 43,
   "metadata": {
    "scrolled": true
   },
   "outputs": [
    {
     "data": {
      "text/plain": [
       "count    2.655500e+04\n",
       "mean     1.018818e+06\n",
       "std      6.757027e+05\n",
       "min      2.736000e+04\n",
       "25%      6.299500e+05\n",
       "50%      8.299500e+05\n",
       "75%      1.212968e+06\n",
       "max      1.574000e+07\n",
       "Name: price, dtype: float64"
      ]
     },
     "execution_count": 43,
     "metadata": {},
     "output_type": "execute_result"
    }
   ],
   "source": [
    "#determining upper and lower price of these no view property\n",
    "nview_df.price.describe()"
   ]
  },
  {
   "cell_type": "code",
   "execution_count": 44,
   "metadata": {},
   "outputs": [
    {
     "data": {
      "text/plain": [
       "<AxesSubplot:xlabel='price'>"
      ]
     },
     "execution_count": 44,
     "metadata": {},
     "output_type": "execute_result"
    },
    {
     "data": {
      "image/png": "[encoded data removed]",
      "text/plain": [
       "<Figure size 432x288 with 1 Axes>"
      ]
     },
     "metadata": {},
     "output_type": "display_data"
    }
   ],
   "source": [
    "#plotting 'price' values of range_df\n",
    "sns.boxplot(data = nview_df, x= 'price', color = \"blue\", palette = \"rocket\")"
   ]
  },
  {
   "cell_type": "code",
   "execution_count": 45,
   "metadata": {
    "scrolled": true
   },
   "outputs": [
    {
     "data": {
      "text/plain": [
       "(420000.0, 2220000.0)"
      ]
     },
     "execution_count": 45,
     "metadata": {},
     "output_type": "execute_result"
    }
   ],
   "source": [
    "#removing unwanted outliers\n",
    "min_reach, max_reach = nview_df.price.quantile([0.05, 0.95])\n",
    "min_reach, max_reach"
   ]
  },
  {
   "cell_type": "code",
   "execution_count": 46,
   "metadata": {},
   "outputs": [
    {
     "data": {
      "text/html": [
       "<div>\n",
       "<style scoped>\n",
       "    .dataframe tbody tr th:only-of-type {\n",
       "        vertical-align: middle;\n",
       "    }\n",
       "\n",
       "    .dataframe tbody tr th {\n",
       "        vertical-align: top;\n",
       "    }\n",
       "\n",
       "    .dataframe thead th {\n",
       "        text-align: right;\n",
       "    }\n",
       "</style>\n",
       "<table border=\"1\" class=\"dataframe\">\n",
       "  <thead>\n",
       "    <tr style=\"text-align: right;\">\n",
       "      <th></th>\n",
       "      <th>price</th>\n",
       "      <th>bedrooms</th>\n",
       "      <th>bathrooms</th>\n",
       "      <th>sqft_living</th>\n",
       "      <th>sqft_lot</th>\n",
       "      <th>floors</th>\n",
       "      <th>sqft_above</th>\n",
       "      <th>sqft_basement</th>\n",
       "      <th>sqft_garage</th>\n",
       "      <th>sqft_patio</th>\n",
       "      <th>...</th>\n",
       "      <th>grade_9_Better</th>\n",
       "      <th>heat_source_Electricity/Solar</th>\n",
       "      <th>heat_source_Gas</th>\n",
       "      <th>heat_source_Gas/Solar</th>\n",
       "      <th>heat_source_Oil</th>\n",
       "      <th>heat_source_Oil/Solar</th>\n",
       "      <th>heat_source_Other</th>\n",
       "      <th>sewer_system_PRIVATE_RESTRICTED</th>\n",
       "      <th>sewer_system_PUBLIC</th>\n",
       "      <th>sewer_system_PUBLIC_RESTRICTED</th>\n",
       "    </tr>\n",
       "  </thead>\n",
       "  <tbody>\n",
       "    <tr>\n",
       "      <th>27</th>\n",
       "      <td>4500000.0</td>\n",
       "      <td>4</td>\n",
       "      <td>3.0</td>\n",
       "      <td>2760</td>\n",
       "      <td>13150</td>\n",
       "      <td>1.5</td>\n",
       "      <td>2760</td>\n",
       "      <td>0</td>\n",
       "      <td>0</td>\n",
       "      <td>160</td>\n",
       "      <td>...</td>\n",
       "      <td>1</td>\n",
       "      <td>0</td>\n",
       "      <td>0</td>\n",
       "      <td>0</td>\n",
       "      <td>1</td>\n",
       "      <td>0</td>\n",
       "      <td>0</td>\n",
       "      <td>0</td>\n",
       "      <td>1</td>\n",
       "      <td>0</td>\n",
       "    </tr>\n",
       "    <tr>\n",
       "      <th>36</th>\n",
       "      <td>2450000.0</td>\n",
       "      <td>4</td>\n",
       "      <td>3.5</td>\n",
       "      <td>2300</td>\n",
       "      <td>8370</td>\n",
       "      <td>2.0</td>\n",
       "      <td>2300</td>\n",
       "      <td>0</td>\n",
       "      <td>560</td>\n",
       "      <td>110</td>\n",
       "      <td>...</td>\n",
       "      <td>1</td>\n",
       "      <td>0</td>\n",
       "      <td>1</td>\n",
       "      <td>0</td>\n",
       "      <td>0</td>\n",
       "      <td>0</td>\n",
       "      <td>0</td>\n",
       "      <td>0</td>\n",
       "      <td>1</td>\n",
       "      <td>0</td>\n",
       "    </tr>\n",
       "    <tr>\n",
       "      <th>43</th>\n",
       "      <td>3850000.0</td>\n",
       "      <td>5</td>\n",
       "      <td>3.5</td>\n",
       "      <td>4180</td>\n",
       "      <td>209959</td>\n",
       "      <td>1.0</td>\n",
       "      <td>4180</td>\n",
       "      <td>0</td>\n",
       "      <td>0</td>\n",
       "      <td>0</td>\n",
       "      <td>...</td>\n",
       "      <td>0</td>\n",
       "      <td>0</td>\n",
       "      <td>1</td>\n",
       "      <td>0</td>\n",
       "      <td>0</td>\n",
       "      <td>0</td>\n",
       "      <td>0</td>\n",
       "      <td>0</td>\n",
       "      <td>0</td>\n",
       "      <td>0</td>\n",
       "    </tr>\n",
       "    <tr>\n",
       "      <th>84</th>\n",
       "      <td>2500000.0</td>\n",
       "      <td>4</td>\n",
       "      <td>3.5</td>\n",
       "      <td>3120</td>\n",
       "      <td>3801</td>\n",
       "      <td>2.0</td>\n",
       "      <td>2540</td>\n",
       "      <td>1170</td>\n",
       "      <td>590</td>\n",
       "      <td>380</td>\n",
       "      <td>...</td>\n",
       "      <td>0</td>\n",
       "      <td>0</td>\n",
       "      <td>0</td>\n",
       "      <td>0</td>\n",
       "      <td>0</td>\n",
       "      <td>0</td>\n",
       "      <td>0</td>\n",
       "      <td>0</td>\n",
       "      <td>1</td>\n",
       "      <td>0</td>\n",
       "    </tr>\n",
       "    <tr>\n",
       "      <th>118</th>\n",
       "      <td>3000000.0</td>\n",
       "      <td>3</td>\n",
       "      <td>1.5</td>\n",
       "      <td>2040</td>\n",
       "      <td>14284</td>\n",
       "      <td>1.0</td>\n",
       "      <td>2040</td>\n",
       "      <td>0</td>\n",
       "      <td>400</td>\n",
       "      <td>0</td>\n",
       "      <td>...</td>\n",
       "      <td>0</td>\n",
       "      <td>0</td>\n",
       "      <td>0</td>\n",
       "      <td>0</td>\n",
       "      <td>1</td>\n",
       "      <td>0</td>\n",
       "      <td>0</td>\n",
       "      <td>0</td>\n",
       "      <td>1</td>\n",
       "      <td>0</td>\n",
       "    </tr>\n",
       "    <tr>\n",
       "      <th>...</th>\n",
       "      <td>...</td>\n",
       "      <td>...</td>\n",
       "      <td>...</td>\n",
       "      <td>...</td>\n",
       "      <td>...</td>\n",
       "      <td>...</td>\n",
       "      <td>...</td>\n",
       "      <td>...</td>\n",
       "      <td>...</td>\n",
       "      <td>...</td>\n",
       "      <td>...</td>\n",
       "      <td>...</td>\n",
       "      <td>...</td>\n",
       "      <td>...</td>\n",
       "      <td>...</td>\n",
       "      <td>...</td>\n",
       "      <td>...</td>\n",
       "      <td>...</td>\n",
       "      <td>...</td>\n",
       "      <td>...</td>\n",
       "      <td>...</td>\n",
       "    </tr>\n",
       "    <tr>\n",
       "      <th>30100</th>\n",
       "      <td>2588000.0</td>\n",
       "      <td>5</td>\n",
       "      <td>4.5</td>\n",
       "      <td>3580</td>\n",
       "      <td>5719</td>\n",
       "      <td>2.0</td>\n",
       "      <td>3580</td>\n",
       "      <td>0</td>\n",
       "      <td>460</td>\n",
       "      <td>220</td>\n",
       "      <td>...</td>\n",
       "      <td>1</td>\n",
       "      <td>0</td>\n",
       "      <td>1</td>\n",
       "      <td>0</td>\n",
       "      <td>0</td>\n",
       "      <td>0</td>\n",
       "      <td>0</td>\n",
       "      <td>0</td>\n",
       "      <td>1</td>\n",
       "      <td>0</td>\n",
       "    </tr>\n",
       "    <tr>\n",
       "      <th>30106</th>\n",
       "      <td>2875000.0</td>\n",
       "      <td>3</td>\n",
       "      <td>2.0</td>\n",
       "      <td>1900</td>\n",
       "      <td>8800</td>\n",
       "      <td>1.0</td>\n",
       "      <td>1600</td>\n",
       "      <td>1100</td>\n",
       "      <td>200</td>\n",
       "      <td>80</td>\n",
       "      <td>...</td>\n",
       "      <td>0</td>\n",
       "      <td>0</td>\n",
       "      <td>0</td>\n",
       "      <td>0</td>\n",
       "      <td>1</td>\n",
       "      <td>0</td>\n",
       "      <td>0</td>\n",
       "      <td>0</td>\n",
       "      <td>1</td>\n",
       "      <td>0</td>\n",
       "    </tr>\n",
       "    <tr>\n",
       "      <th>30126</th>\n",
       "      <td>3754500.0</td>\n",
       "      <td>4</td>\n",
       "      <td>5.5</td>\n",
       "      <td>5200</td>\n",
       "      <td>10790</td>\n",
       "      <td>2.0</td>\n",
       "      <td>5200</td>\n",
       "      <td>0</td>\n",
       "      <td>730</td>\n",
       "      <td>400</td>\n",
       "      <td>...</td>\n",
       "      <td>0</td>\n",
       "      <td>0</td>\n",
       "      <td>1</td>\n",
       "      <td>0</td>\n",
       "      <td>0</td>\n",
       "      <td>0</td>\n",
       "      <td>0</td>\n",
       "      <td>0</td>\n",
       "      <td>1</td>\n",
       "      <td>0</td>\n",
       "    </tr>\n",
       "    <tr>\n",
       "      <th>30130</th>\n",
       "      <td>2435000.0</td>\n",
       "      <td>5</td>\n",
       "      <td>3.0</td>\n",
       "      <td>3920</td>\n",
       "      <td>8414</td>\n",
       "      <td>1.0</td>\n",
       "      <td>2210</td>\n",
       "      <td>2210</td>\n",
       "      <td>500</td>\n",
       "      <td>350</td>\n",
       "      <td>...</td>\n",
       "      <td>1</td>\n",
       "      <td>0</td>\n",
       "      <td>1</td>\n",
       "      <td>0</td>\n",
       "      <td>0</td>\n",
       "      <td>0</td>\n",
       "      <td>0</td>\n",
       "      <td>0</td>\n",
       "      <td>1</td>\n",
       "      <td>0</td>\n",
       "    </tr>\n",
       "    <tr>\n",
       "      <th>30140</th>\n",
       "      <td>2650000.0</td>\n",
       "      <td>4</td>\n",
       "      <td>3.5</td>\n",
       "      <td>3270</td>\n",
       "      <td>9200</td>\n",
       "      <td>2.0</td>\n",
       "      <td>2410</td>\n",
       "      <td>1060</td>\n",
       "      <td>0</td>\n",
       "      <td>40</td>\n",
       "      <td>...</td>\n",
       "      <td>1</td>\n",
       "      <td>0</td>\n",
       "      <td>0</td>\n",
       "      <td>0</td>\n",
       "      <td>1</td>\n",
       "      <td>0</td>\n",
       "      <td>0</td>\n",
       "      <td>0</td>\n",
       "      <td>1</td>\n",
       "      <td>0</td>\n",
       "    </tr>\n",
       "  </tbody>\n",
       "</table>\n",
       "<p>1324 rows × 39 columns</p>\n",
       "</div>"
      ],
      "text/plain": [
       "           price  bedrooms  bathrooms  sqft_living  sqft_lot  floors  \\\n",
       "27     4500000.0         4        3.0         2760     13150     1.5   \n",
       "36     2450000.0         4        3.5         2300      8370     2.0   \n",
       "43     3850000.0         5        3.5         4180    209959     1.0   \n",
       "84     2500000.0         4        3.5         3120      3801     2.0   \n",
       "118    3000000.0         3        1.5         2040     14284     1.0   \n",
       "...          ...       ...        ...          ...       ...     ...   \n",
       "30100  2588000.0         5        4.5         3580      5719     2.0   \n",
       "30106  2875000.0         3        2.0         1900      8800     1.0   \n",
       "30126  3754500.0         4        5.5         5200     10790     2.0   \n",
       "30130  2435000.0         5        3.0         3920      8414     1.0   \n",
       "30140  2650000.0         4        3.5         3270      9200     2.0   \n",
       "\n",
       "       sqft_above  sqft_basement  sqft_garage  sqft_patio  ...  \\\n",
       "27           2760              0            0         160  ...   \n",
       "36           2300              0          560         110  ...   \n",
       "43           4180              0            0           0  ...   \n",
       "84           2540           1170          590         380  ...   \n",
       "118          2040              0          400           0  ...   \n",
       "...           ...            ...          ...         ...  ...   \n",
       "30100        3580              0          460         220  ...   \n",
       "30106        1600           1100          200          80  ...   \n",
       "30126        5200              0          730         400  ...   \n",
       "30130        2210           2210          500         350  ...   \n",
       "30140        2410           1060            0          40  ...   \n",
       "\n",
       "       grade_9_Better heat_source_Electricity/Solar  heat_source_Gas  \\\n",
       "27                  1                             0                0   \n",
       "36                  1                             0                1   \n",
       "43                  0                             0                1   \n",
       "84                  0                             0                0   \n",
       "118                 0                             0                0   \n",
       "...               ...                           ...              ...   \n",
       "30100               1                             0                1   \n",
       "30106               0                             0                0   \n",
       "30126               0                             0                1   \n",
       "30130               1                             0                1   \n",
       "30140               1                             0                0   \n",
       "\n",
       "       heat_source_Gas/Solar  heat_source_Oil  heat_source_Oil/Solar  \\\n",
       "27                         0                1                      0   \n",
       "36                         0                0                      0   \n",
       "43                         0                0                      0   \n",
       "84                         0                0                      0   \n",
       "118                        0                1                      0   \n",
       "...                      ...              ...                    ...   \n",
       "30100                      0                0                      0   \n",
       "30106                      0                1                      0   \n",
       "30126                      0                0                      0   \n",
       "30130                      0                0                      0   \n",
       "30140                      0                1                      0   \n",
       "\n",
       "       heat_source_Other  sewer_system_PRIVATE_RESTRICTED  \\\n",
       "27                     0                                0   \n",
       "36                     0                                0   \n",
       "43                     0                                0   \n",
       "84                     0                                0   \n",
       "118                    0                                0   \n",
       "...                  ...                              ...   \n",
       "30100                  0                                0   \n",
       "30106                  0                                0   \n",
       "30126                  0                                0   \n",
       "30130                  0                                0   \n",
       "30140                  0                                0   \n",
       "\n",
       "       sewer_system_PUBLIC  sewer_system_PUBLIC_RESTRICTED  \n",
       "27                       1                               0  \n",
       "36                       1                               0  \n",
       "43                       0                               0  \n",
       "84                       1                               0  \n",
       "118                      1                               0  \n",
       "...                    ...                             ...  \n",
       "30100                    1                               0  \n",
       "30106                    1                               0  \n",
       "30126                    1                               0  \n",
       "30130                    1                               0  \n",
       "30140                    1                               0  \n",
       "\n",
       "[1324 rows x 39 columns]"
      ]
     },
     "execution_count": 46,
     "metadata": {},
     "output_type": "execute_result"
    }
   ],
   "source": [
    "nview_df[nview_df.price > max_reach]"
   ]
  },
  {
   "cell_type": "code",
   "execution_count": 47,
   "metadata": {},
   "outputs": [
    {
     "data": {
      "text/html": [
       "<div>\n",
       "<style scoped>\n",
       "    .dataframe tbody tr th:only-of-type {\n",
       "        vertical-align: middle;\n",
       "    }\n",
       "\n",
       "    .dataframe tbody tr th {\n",
       "        vertical-align: top;\n",
       "    }\n",
       "\n",
       "    .dataframe thead th {\n",
       "        text-align: right;\n",
       "    }\n",
       "</style>\n",
       "<table border=\"1\" class=\"dataframe\">\n",
       "  <thead>\n",
       "    <tr style=\"text-align: right;\">\n",
       "      <th></th>\n",
       "      <th>price</th>\n",
       "      <th>bedrooms</th>\n",
       "      <th>bathrooms</th>\n",
       "      <th>sqft_living</th>\n",
       "      <th>sqft_lot</th>\n",
       "      <th>floors</th>\n",
       "      <th>sqft_above</th>\n",
       "      <th>sqft_basement</th>\n",
       "      <th>sqft_garage</th>\n",
       "      <th>sqft_patio</th>\n",
       "      <th>...</th>\n",
       "      <th>grade_9_Better</th>\n",
       "      <th>heat_source_Electricity/Solar</th>\n",
       "      <th>heat_source_Gas</th>\n",
       "      <th>heat_source_Gas/Solar</th>\n",
       "      <th>heat_source_Oil</th>\n",
       "      <th>heat_source_Oil/Solar</th>\n",
       "      <th>heat_source_Other</th>\n",
       "      <th>sewer_system_PRIVATE_RESTRICTED</th>\n",
       "      <th>sewer_system_PUBLIC</th>\n",
       "      <th>sewer_system_PUBLIC_RESTRICTED</th>\n",
       "    </tr>\n",
       "  </thead>\n",
       "  <tbody>\n",
       "    <tr>\n",
       "      <th>45</th>\n",
       "      <td>315000.0</td>\n",
       "      <td>3</td>\n",
       "      <td>1.0</td>\n",
       "      <td>1150</td>\n",
       "      <td>6477</td>\n",
       "      <td>1.0</td>\n",
       "      <td>1150</td>\n",
       "      <td>0</td>\n",
       "      <td>0</td>\n",
       "      <td>80</td>\n",
       "      <td>...</td>\n",
       "      <td>0</td>\n",
       "      <td>0</td>\n",
       "      <td>1</td>\n",
       "      <td>0</td>\n",
       "      <td>0</td>\n",
       "      <td>0</td>\n",
       "      <td>0</td>\n",
       "      <td>0</td>\n",
       "      <td>1</td>\n",
       "      <td>0</td>\n",
       "    </tr>\n",
       "    <tr>\n",
       "      <th>52</th>\n",
       "      <td>235000.0</td>\n",
       "      <td>2</td>\n",
       "      <td>1.0</td>\n",
       "      <td>700</td>\n",
       "      <td>14750</td>\n",
       "      <td>1.5</td>\n",
       "      <td>700</td>\n",
       "      <td>0</td>\n",
       "      <td>0</td>\n",
       "      <td>0</td>\n",
       "      <td>...</td>\n",
       "      <td>0</td>\n",
       "      <td>0</td>\n",
       "      <td>0</td>\n",
       "      <td>0</td>\n",
       "      <td>0</td>\n",
       "      <td>0</td>\n",
       "      <td>0</td>\n",
       "      <td>0</td>\n",
       "      <td>0</td>\n",
       "      <td>0</td>\n",
       "    </tr>\n",
       "    <tr>\n",
       "      <th>56</th>\n",
       "      <td>37440.0</td>\n",
       "      <td>4</td>\n",
       "      <td>2.5</td>\n",
       "      <td>1670</td>\n",
       "      <td>13703</td>\n",
       "      <td>1.0</td>\n",
       "      <td>1140</td>\n",
       "      <td>1100</td>\n",
       "      <td>530</td>\n",
       "      <td>240</td>\n",
       "      <td>...</td>\n",
       "      <td>0</td>\n",
       "      <td>0</td>\n",
       "      <td>1</td>\n",
       "      <td>0</td>\n",
       "      <td>0</td>\n",
       "      <td>0</td>\n",
       "      <td>0</td>\n",
       "      <td>0</td>\n",
       "      <td>1</td>\n",
       "      <td>0</td>\n",
       "    </tr>\n",
       "    <tr>\n",
       "      <th>67</th>\n",
       "      <td>275000.0</td>\n",
       "      <td>4</td>\n",
       "      <td>1.0</td>\n",
       "      <td>1700</td>\n",
       "      <td>7692</td>\n",
       "      <td>1.0</td>\n",
       "      <td>1200</td>\n",
       "      <td>1150</td>\n",
       "      <td>450</td>\n",
       "      <td>120</td>\n",
       "      <td>...</td>\n",
       "      <td>0</td>\n",
       "      <td>0</td>\n",
       "      <td>1</td>\n",
       "      <td>0</td>\n",
       "      <td>0</td>\n",
       "      <td>0</td>\n",
       "      <td>0</td>\n",
       "      <td>0</td>\n",
       "      <td>1</td>\n",
       "      <td>0</td>\n",
       "    </tr>\n",
       "    <tr>\n",
       "      <th>81</th>\n",
       "      <td>370000.0</td>\n",
       "      <td>3</td>\n",
       "      <td>1.5</td>\n",
       "      <td>1040</td>\n",
       "      <td>8550</td>\n",
       "      <td>1.0</td>\n",
       "      <td>1040</td>\n",
       "      <td>0</td>\n",
       "      <td>420</td>\n",
       "      <td>70</td>\n",
       "      <td>...</td>\n",
       "      <td>0</td>\n",
       "      <td>0</td>\n",
       "      <td>0</td>\n",
       "      <td>0</td>\n",
       "      <td>1</td>\n",
       "      <td>0</td>\n",
       "      <td>0</td>\n",
       "      <td>0</td>\n",
       "      <td>0</td>\n",
       "      <td>0</td>\n",
       "    </tr>\n",
       "    <tr>\n",
       "      <th>...</th>\n",
       "      <td>...</td>\n",
       "      <td>...</td>\n",
       "      <td>...</td>\n",
       "      <td>...</td>\n",
       "      <td>...</td>\n",
       "      <td>...</td>\n",
       "      <td>...</td>\n",
       "      <td>...</td>\n",
       "      <td>...</td>\n",
       "      <td>...</td>\n",
       "      <td>...</td>\n",
       "      <td>...</td>\n",
       "      <td>...</td>\n",
       "      <td>...</td>\n",
       "      <td>...</td>\n",
       "      <td>...</td>\n",
       "      <td>...</td>\n",
       "      <td>...</td>\n",
       "      <td>...</td>\n",
       "      <td>...</td>\n",
       "      <td>...</td>\n",
       "    </tr>\n",
       "    <tr>\n",
       "      <th>30040</th>\n",
       "      <td>315500.0</td>\n",
       "      <td>3</td>\n",
       "      <td>1.0</td>\n",
       "      <td>1290</td>\n",
       "      <td>7500</td>\n",
       "      <td>1.5</td>\n",
       "      <td>1290</td>\n",
       "      <td>0</td>\n",
       "      <td>0</td>\n",
       "      <td>110</td>\n",
       "      <td>...</td>\n",
       "      <td>0</td>\n",
       "      <td>0</td>\n",
       "      <td>1</td>\n",
       "      <td>0</td>\n",
       "      <td>0</td>\n",
       "      <td>0</td>\n",
       "      <td>0</td>\n",
       "      <td>0</td>\n",
       "      <td>1</td>\n",
       "      <td>0</td>\n",
       "    </tr>\n",
       "    <tr>\n",
       "      <th>30071</th>\n",
       "      <td>400000.0</td>\n",
       "      <td>1</td>\n",
       "      <td>1.0</td>\n",
       "      <td>760</td>\n",
       "      <td>148975</td>\n",
       "      <td>2.0</td>\n",
       "      <td>760</td>\n",
       "      <td>0</td>\n",
       "      <td>0</td>\n",
       "      <td>200</td>\n",
       "      <td>...</td>\n",
       "      <td>0</td>\n",
       "      <td>0</td>\n",
       "      <td>0</td>\n",
       "      <td>0</td>\n",
       "      <td>0</td>\n",
       "      <td>0</td>\n",
       "      <td>0</td>\n",
       "      <td>0</td>\n",
       "      <td>0</td>\n",
       "      <td>0</td>\n",
       "    </tr>\n",
       "    <tr>\n",
       "      <th>30092</th>\n",
       "      <td>345629.0</td>\n",
       "      <td>3</td>\n",
       "      <td>3.5</td>\n",
       "      <td>1430</td>\n",
       "      <td>1078</td>\n",
       "      <td>2.0</td>\n",
       "      <td>1100</td>\n",
       "      <td>330</td>\n",
       "      <td>0</td>\n",
       "      <td>230</td>\n",
       "      <td>...</td>\n",
       "      <td>0</td>\n",
       "      <td>0</td>\n",
       "      <td>0</td>\n",
       "      <td>0</td>\n",
       "      <td>0</td>\n",
       "      <td>0</td>\n",
       "      <td>0</td>\n",
       "      <td>0</td>\n",
       "      <td>1</td>\n",
       "      <td>0</td>\n",
       "    </tr>\n",
       "    <tr>\n",
       "      <th>30125</th>\n",
       "      <td>337500.0</td>\n",
       "      <td>3</td>\n",
       "      <td>1.0</td>\n",
       "      <td>1350</td>\n",
       "      <td>6628</td>\n",
       "      <td>1.0</td>\n",
       "      <td>1350</td>\n",
       "      <td>0</td>\n",
       "      <td>0</td>\n",
       "      <td>0</td>\n",
       "      <td>...</td>\n",
       "      <td>0</td>\n",
       "      <td>0</td>\n",
       "      <td>1</td>\n",
       "      <td>0</td>\n",
       "      <td>0</td>\n",
       "      <td>0</td>\n",
       "      <td>0</td>\n",
       "      <td>0</td>\n",
       "      <td>0</td>\n",
       "      <td>0</td>\n",
       "    </tr>\n",
       "    <tr>\n",
       "      <th>30146</th>\n",
       "      <td>380000.0</td>\n",
       "      <td>3</td>\n",
       "      <td>1.0</td>\n",
       "      <td>860</td>\n",
       "      <td>7805</td>\n",
       "      <td>1.0</td>\n",
       "      <td>860</td>\n",
       "      <td>0</td>\n",
       "      <td>0</td>\n",
       "      <td>0</td>\n",
       "      <td>...</td>\n",
       "      <td>0</td>\n",
       "      <td>0</td>\n",
       "      <td>1</td>\n",
       "      <td>0</td>\n",
       "      <td>0</td>\n",
       "      <td>0</td>\n",
       "      <td>0</td>\n",
       "      <td>0</td>\n",
       "      <td>1</td>\n",
       "      <td>0</td>\n",
       "    </tr>\n",
       "  </tbody>\n",
       "</table>\n",
       "<p>1295 rows × 39 columns</p>\n",
       "</div>"
      ],
      "text/plain": [
       "          price  bedrooms  bathrooms  sqft_living  sqft_lot  floors  \\\n",
       "45     315000.0         3        1.0         1150      6477     1.0   \n",
       "52     235000.0         2        1.0          700     14750     1.5   \n",
       "56      37440.0         4        2.5         1670     13703     1.0   \n",
       "67     275000.0         4        1.0         1700      7692     1.0   \n",
       "81     370000.0         3        1.5         1040      8550     1.0   \n",
       "...         ...       ...        ...          ...       ...     ...   \n",
       "30040  315500.0         3        1.0         1290      7500     1.5   \n",
       "30071  400000.0         1        1.0          760    148975     2.0   \n",
       "30092  345629.0         3        3.5         1430      1078     2.0   \n",
       "30125  337500.0         3        1.0         1350      6628     1.0   \n",
       "30146  380000.0         3        1.0          860      7805     1.0   \n",
       "\n",
       "       sqft_above  sqft_basement  sqft_garage  sqft_patio  ...  \\\n",
       "45           1150              0            0          80  ...   \n",
       "52            700              0            0           0  ...   \n",
       "56           1140           1100          530         240  ...   \n",
       "67           1200           1150          450         120  ...   \n",
       "81           1040              0          420          70  ...   \n",
       "...           ...            ...          ...         ...  ...   \n",
       "30040        1290              0            0         110  ...   \n",
       "30071         760              0            0         200  ...   \n",
       "30092        1100            330            0         230  ...   \n",
       "30125        1350              0            0           0  ...   \n",
       "30146         860              0            0           0  ...   \n",
       "\n",
       "       grade_9_Better heat_source_Electricity/Solar  heat_source_Gas  \\\n",
       "45                  0                             0                1   \n",
       "52                  0                             0                0   \n",
       "56                  0                             0                1   \n",
       "67                  0                             0                1   \n",
       "81                  0                             0                0   \n",
       "...               ...                           ...              ...   \n",
       "30040               0                             0                1   \n",
       "30071               0                             0                0   \n",
       "30092               0                             0                0   \n",
       "30125               0                             0                1   \n",
       "30146               0                             0                1   \n",
       "\n",
       "       heat_source_Gas/Solar  heat_source_Oil  heat_source_Oil/Solar  \\\n",
       "45                         0                0                      0   \n",
       "52                         0                0                      0   \n",
       "56                         0                0                      0   \n",
       "67                         0                0                      0   \n",
       "81                         0                1                      0   \n",
       "...                      ...              ...                    ...   \n",
       "30040                      0                0                      0   \n",
       "30071                      0                0                      0   \n",
       "30092                      0                0                      0   \n",
       "30125                      0                0                      0   \n",
       "30146                      0                0                      0   \n",
       "\n",
       "       heat_source_Other  sewer_system_PRIVATE_RESTRICTED  \\\n",
       "45                     0                                0   \n",
       "52                     0                                0   \n",
       "56                     0                                0   \n",
       "67                     0                                0   \n",
       "81                     0                                0   \n",
       "...                  ...                              ...   \n",
       "30040                  0                                0   \n",
       "30071                  0                                0   \n",
       "30092                  0                                0   \n",
       "30125                  0                                0   \n",
       "30146                  0                                0   \n",
       "\n",
       "       sewer_system_PUBLIC  sewer_system_PUBLIC_RESTRICTED  \n",
       "45                       1                               0  \n",
       "52                       0                               0  \n",
       "56                       1                               0  \n",
       "67                       1                               0  \n",
       "81                       0                               0  \n",
       "...                    ...                             ...  \n",
       "30040                    1                               0  \n",
       "30071                    0                               0  \n",
       "30092                    1                               0  \n",
       "30125                    0                               0  \n",
       "30146                    1                               0  \n",
       "\n",
       "[1295 rows x 39 columns]"
      ]
     },
     "execution_count": 47,
     "metadata": {},
     "output_type": "execute_result"
    }
   ],
   "source": [
    "nview_df[nview_df.price < min_reach]"
   ]
  },
  {
   "cell_type": "code",
   "execution_count": 48,
   "metadata": {
    "scrolled": true
   },
   "outputs": [
    {
     "data": {
      "text/html": [
       "<div>\n",
       "<style scoped>\n",
       "    .dataframe tbody tr th:only-of-type {\n",
       "        vertical-align: middle;\n",
       "    }\n",
       "\n",
       "    .dataframe tbody tr th {\n",
       "        vertical-align: top;\n",
       "    }\n",
       "\n",
       "    .dataframe thead th {\n",
       "        text-align: right;\n",
       "    }\n",
       "</style>\n",
       "<table border=\"1\" class=\"dataframe\">\n",
       "  <thead>\n",
       "    <tr style=\"text-align: right;\">\n",
       "      <th></th>\n",
       "      <th>price</th>\n",
       "      <th>bedrooms</th>\n",
       "      <th>bathrooms</th>\n",
       "      <th>sqft_living</th>\n",
       "      <th>sqft_lot</th>\n",
       "      <th>floors</th>\n",
       "      <th>sqft_above</th>\n",
       "      <th>sqft_basement</th>\n",
       "      <th>sqft_garage</th>\n",
       "      <th>sqft_patio</th>\n",
       "      <th>...</th>\n",
       "      <th>grade_9_Better</th>\n",
       "      <th>heat_source_Electricity/Solar</th>\n",
       "      <th>heat_source_Gas</th>\n",
       "      <th>heat_source_Gas/Solar</th>\n",
       "      <th>heat_source_Oil</th>\n",
       "      <th>heat_source_Oil/Solar</th>\n",
       "      <th>heat_source_Other</th>\n",
       "      <th>sewer_system_PRIVATE_RESTRICTED</th>\n",
       "      <th>sewer_system_PUBLIC</th>\n",
       "      <th>sewer_system_PUBLIC_RESTRICTED</th>\n",
       "    </tr>\n",
       "  </thead>\n",
       "  <tbody>\n",
       "    <tr>\n",
       "      <th>0</th>\n",
       "      <td>675000.0</td>\n",
       "      <td>4</td>\n",
       "      <td>1.0</td>\n",
       "      <td>1180</td>\n",
       "      <td>7140</td>\n",
       "      <td>1.0</td>\n",
       "      <td>1180</td>\n",
       "      <td>0</td>\n",
       "      <td>0</td>\n",
       "      <td>40</td>\n",
       "      <td>...</td>\n",
       "      <td>0</td>\n",
       "      <td>0</td>\n",
       "      <td>1</td>\n",
       "      <td>0</td>\n",
       "      <td>0</td>\n",
       "      <td>0</td>\n",
       "      <td>0</td>\n",
       "      <td>0</td>\n",
       "      <td>1</td>\n",
       "      <td>0</td>\n",
       "    </tr>\n",
       "    <tr>\n",
       "      <th>4</th>\n",
       "      <td>592500.0</td>\n",
       "      <td>2</td>\n",
       "      <td>2.0</td>\n",
       "      <td>1120</td>\n",
       "      <td>758</td>\n",
       "      <td>2.0</td>\n",
       "      <td>1120</td>\n",
       "      <td>550</td>\n",
       "      <td>550</td>\n",
       "      <td>30</td>\n",
       "      <td>...</td>\n",
       "      <td>0</td>\n",
       "      <td>0</td>\n",
       "      <td>0</td>\n",
       "      <td>0</td>\n",
       "      <td>0</td>\n",
       "      <td>0</td>\n",
       "      <td>0</td>\n",
       "      <td>0</td>\n",
       "      <td>1</td>\n",
       "      <td>0</td>\n",
       "    </tr>\n",
       "    <tr>\n",
       "      <th>5</th>\n",
       "      <td>625000.0</td>\n",
       "      <td>2</td>\n",
       "      <td>1.0</td>\n",
       "      <td>1190</td>\n",
       "      <td>5688</td>\n",
       "      <td>1.0</td>\n",
       "      <td>1190</td>\n",
       "      <td>0</td>\n",
       "      <td>300</td>\n",
       "      <td>0</td>\n",
       "      <td>...</td>\n",
       "      <td>0</td>\n",
       "      <td>0</td>\n",
       "      <td>0</td>\n",
       "      <td>0</td>\n",
       "      <td>0</td>\n",
       "      <td>0</td>\n",
       "      <td>0</td>\n",
       "      <td>0</td>\n",
       "      <td>1</td>\n",
       "      <td>0</td>\n",
       "    </tr>\n",
       "    <tr>\n",
       "      <th>7</th>\n",
       "      <td>820000.0</td>\n",
       "      <td>3</td>\n",
       "      <td>2.5</td>\n",
       "      <td>2214</td>\n",
       "      <td>3506</td>\n",
       "      <td>2.0</td>\n",
       "      <td>2214</td>\n",
       "      <td>0</td>\n",
       "      <td>440</td>\n",
       "      <td>206</td>\n",
       "      <td>...</td>\n",
       "      <td>0</td>\n",
       "      <td>0</td>\n",
       "      <td>1</td>\n",
       "      <td>0</td>\n",
       "      <td>0</td>\n",
       "      <td>0</td>\n",
       "      <td>0</td>\n",
       "      <td>0</td>\n",
       "      <td>1</td>\n",
       "      <td>0</td>\n",
       "    </tr>\n",
       "    <tr>\n",
       "      <th>8</th>\n",
       "      <td>780000.0</td>\n",
       "      <td>4</td>\n",
       "      <td>2.5</td>\n",
       "      <td>2340</td>\n",
       "      <td>8125</td>\n",
       "      <td>2.0</td>\n",
       "      <td>2340</td>\n",
       "      <td>0</td>\n",
       "      <td>440</td>\n",
       "      <td>70</td>\n",
       "      <td>...</td>\n",
       "      <td>0</td>\n",
       "      <td>0</td>\n",
       "      <td>1</td>\n",
       "      <td>0</td>\n",
       "      <td>0</td>\n",
       "      <td>0</td>\n",
       "      <td>0</td>\n",
       "      <td>0</td>\n",
       "      <td>1</td>\n",
       "      <td>0</td>\n",
       "    </tr>\n",
       "    <tr>\n",
       "      <th>...</th>\n",
       "      <td>...</td>\n",
       "      <td>...</td>\n",
       "      <td>...</td>\n",
       "      <td>...</td>\n",
       "      <td>...</td>\n",
       "      <td>...</td>\n",
       "      <td>...</td>\n",
       "      <td>...</td>\n",
       "      <td>...</td>\n",
       "      <td>...</td>\n",
       "      <td>...</td>\n",
       "      <td>...</td>\n",
       "      <td>...</td>\n",
       "      <td>...</td>\n",
       "      <td>...</td>\n",
       "      <td>...</td>\n",
       "      <td>...</td>\n",
       "      <td>...</td>\n",
       "      <td>...</td>\n",
       "      <td>...</td>\n",
       "      <td>...</td>\n",
       "    </tr>\n",
       "    <tr>\n",
       "      <th>30149</th>\n",
       "      <td>719000.0</td>\n",
       "      <td>3</td>\n",
       "      <td>2.5</td>\n",
       "      <td>1270</td>\n",
       "      <td>1141</td>\n",
       "      <td>2.0</td>\n",
       "      <td>1050</td>\n",
       "      <td>420</td>\n",
       "      <td>200</td>\n",
       "      <td>60</td>\n",
       "      <td>...</td>\n",
       "      <td>0</td>\n",
       "      <td>0</td>\n",
       "      <td>1</td>\n",
       "      <td>0</td>\n",
       "      <td>0</td>\n",
       "      <td>0</td>\n",
       "      <td>0</td>\n",
       "      <td>0</td>\n",
       "      <td>1</td>\n",
       "      <td>0</td>\n",
       "    </tr>\n",
       "    <tr>\n",
       "      <th>30150</th>\n",
       "      <td>1555000.0</td>\n",
       "      <td>5</td>\n",
       "      <td>2.0</td>\n",
       "      <td>1910</td>\n",
       "      <td>4000</td>\n",
       "      <td>1.5</td>\n",
       "      <td>1600</td>\n",
       "      <td>1130</td>\n",
       "      <td>0</td>\n",
       "      <td>210</td>\n",
       "      <td>...</td>\n",
       "      <td>0</td>\n",
       "      <td>0</td>\n",
       "      <td>0</td>\n",
       "      <td>0</td>\n",
       "      <td>1</td>\n",
       "      <td>0</td>\n",
       "      <td>0</td>\n",
       "      <td>0</td>\n",
       "      <td>1</td>\n",
       "      <td>0</td>\n",
       "    </tr>\n",
       "    <tr>\n",
       "      <th>30152</th>\n",
       "      <td>800000.0</td>\n",
       "      <td>3</td>\n",
       "      <td>2.0</td>\n",
       "      <td>1620</td>\n",
       "      <td>3600</td>\n",
       "      <td>1.0</td>\n",
       "      <td>940</td>\n",
       "      <td>920</td>\n",
       "      <td>240</td>\n",
       "      <td>110</td>\n",
       "      <td>...</td>\n",
       "      <td>0</td>\n",
       "      <td>0</td>\n",
       "      <td>1</td>\n",
       "      <td>0</td>\n",
       "      <td>0</td>\n",
       "      <td>0</td>\n",
       "      <td>0</td>\n",
       "      <td>0</td>\n",
       "      <td>1</td>\n",
       "      <td>0</td>\n",
       "    </tr>\n",
       "    <tr>\n",
       "      <th>30153</th>\n",
       "      <td>775000.0</td>\n",
       "      <td>3</td>\n",
       "      <td>2.5</td>\n",
       "      <td>2570</td>\n",
       "      <td>2889</td>\n",
       "      <td>2.0</td>\n",
       "      <td>1830</td>\n",
       "      <td>740</td>\n",
       "      <td>480</td>\n",
       "      <td>100</td>\n",
       "      <td>...</td>\n",
       "      <td>0</td>\n",
       "      <td>0</td>\n",
       "      <td>1</td>\n",
       "      <td>0</td>\n",
       "      <td>0</td>\n",
       "      <td>0</td>\n",
       "      <td>0</td>\n",
       "      <td>0</td>\n",
       "      <td>1</td>\n",
       "      <td>0</td>\n",
       "    </tr>\n",
       "    <tr>\n",
       "      <th>30154</th>\n",
       "      <td>500000.0</td>\n",
       "      <td>3</td>\n",
       "      <td>1.5</td>\n",
       "      <td>1200</td>\n",
       "      <td>11058</td>\n",
       "      <td>1.0</td>\n",
       "      <td>1200</td>\n",
       "      <td>0</td>\n",
       "      <td>420</td>\n",
       "      <td>0</td>\n",
       "      <td>...</td>\n",
       "      <td>0</td>\n",
       "      <td>0</td>\n",
       "      <td>0</td>\n",
       "      <td>0</td>\n",
       "      <td>1</td>\n",
       "      <td>0</td>\n",
       "      <td>0</td>\n",
       "      <td>0</td>\n",
       "      <td>1</td>\n",
       "      <td>0</td>\n",
       "    </tr>\n",
       "  </tbody>\n",
       "</table>\n",
       "<p>23879 rows × 39 columns</p>\n",
       "</div>"
      ],
      "text/plain": [
       "           price  bedrooms  bathrooms  sqft_living  sqft_lot  floors  \\\n",
       "0       675000.0         4        1.0         1180      7140     1.0   \n",
       "4       592500.0         2        2.0         1120       758     2.0   \n",
       "5       625000.0         2        1.0         1190      5688     1.0   \n",
       "7       820000.0         3        2.5         2214      3506     2.0   \n",
       "8       780000.0         4        2.5         2340      8125     2.0   \n",
       "...          ...       ...        ...          ...       ...     ...   \n",
       "30149   719000.0         3        2.5         1270      1141     2.0   \n",
       "30150  1555000.0         5        2.0         1910      4000     1.5   \n",
       "30152   800000.0         3        2.0         1620      3600     1.0   \n",
       "30153   775000.0         3        2.5         2570      2889     2.0   \n",
       "30154   500000.0         3        1.5         1200     11058     1.0   \n",
       "\n",
       "       sqft_above  sqft_basement  sqft_garage  sqft_patio  ...  \\\n",
       "0            1180              0            0          40  ...   \n",
       "4            1120            550          550          30  ...   \n",
       "5            1190              0          300           0  ...   \n",
       "7            2214              0          440         206  ...   \n",
       "8            2340              0          440          70  ...   \n",
       "...           ...            ...          ...         ...  ...   \n",
       "30149        1050            420          200          60  ...   \n",
       "30150        1600           1130            0         210  ...   \n",
       "30152         940            920          240         110  ...   \n",
       "30153        1830            740          480         100  ...   \n",
       "30154        1200              0          420           0  ...   \n",
       "\n",
       "       grade_9_Better heat_source_Electricity/Solar  heat_source_Gas  \\\n",
       "0                   0                             0                1   \n",
       "4                   0                             0                0   \n",
       "5                   0                             0                0   \n",
       "7                   0                             0                1   \n",
       "8                   0                             0                1   \n",
       "...               ...                           ...              ...   \n",
       "30149               0                             0                1   \n",
       "30150               0                             0                0   \n",
       "30152               0                             0                1   \n",
       "30153               0                             0                1   \n",
       "30154               0                             0                0   \n",
       "\n",
       "       heat_source_Gas/Solar  heat_source_Oil  heat_source_Oil/Solar  \\\n",
       "0                          0                0                      0   \n",
       "4                          0                0                      0   \n",
       "5                          0                0                      0   \n",
       "7                          0                0                      0   \n",
       "8                          0                0                      0   \n",
       "...                      ...              ...                    ...   \n",
       "30149                      0                0                      0   \n",
       "30150                      0                1                      0   \n",
       "30152                      0                0                      0   \n",
       "30153                      0                0                      0   \n",
       "30154                      0                1                      0   \n",
       "\n",
       "       heat_source_Other  sewer_system_PRIVATE_RESTRICTED  \\\n",
       "0                      0                                0   \n",
       "4                      0                                0   \n",
       "5                      0                                0   \n",
       "7                      0                                0   \n",
       "8                      0                                0   \n",
       "...                  ...                              ...   \n",
       "30149                  0                                0   \n",
       "30150                  0                                0   \n",
       "30152                  0                                0   \n",
       "30153                  0                                0   \n",
       "30154                  0                                0   \n",
       "\n",
       "       sewer_system_PUBLIC  sewer_system_PUBLIC_RESTRICTED  \n",
       "0                        1                               0  \n",
       "4                        1                               0  \n",
       "5                        1                               0  \n",
       "7                        1                               0  \n",
       "8                        1                               0  \n",
       "...                    ...                             ...  \n",
       "30149                    1                               0  \n",
       "30150                    1                               0  \n",
       "30152                    1                               0  \n",
       "30153                    1                               0  \n",
       "30154                    1                               0  \n",
       "\n",
       "[23879 rows x 39 columns]"
      ]
     },
     "execution_count": 48,
     "metadata": {},
     "output_type": "execute_result"
    }
   ],
   "source": [
    "#creating new dataframe to represent view_NONE values only within our new price range\n",
    "range_df = nview_df[(nview_df.price < max_reach) & (nview_df.price > min_reach)]\n",
    "range_df"
   ]
  },
  {
   "cell_type": "code",
   "execution_count": 49,
   "metadata": {
    "scrolled": true
   },
   "outputs": [
    {
     "data": {
      "text/plain": [
       "(23879, 39)"
      ]
     },
     "execution_count": 49,
     "metadata": {},
     "output_type": "execute_result"
    }
   ],
   "source": [
    "range_df.shape"
   ]
  },
  {
   "cell_type": "code",
   "execution_count": 50,
   "metadata": {},
   "outputs": [
    {
     "data": {
      "text/plain": [
       "<AxesSubplot:xlabel='price'>"
      ]
     },
     "execution_count": 50,
     "metadata": {},
     "output_type": "execute_result"
    },
    {
     "data": {
      "image/png": "[encoded data removed]",
      "text/plain": [
       "<Figure size 432x288 with 1 Axes>"
      ]
     },
     "metadata": {},
     "output_type": "display_data"
    }
   ],
   "source": [
    "#plotting 'price' values of range_df update\n",
    "sns.boxplot(data = range_df, x= 'price', color = \"blue\", palette = \"rocket\")"
   ]
  },
  {
   "cell_type": "code",
   "execution_count": 51,
   "metadata": {
    "scrolled": false
   },
   "outputs": [
    {
     "data": {
      "text/plain": [
       "price                                                                  22533040432.0\n",
       "bedrooms                                                                       80524\n",
       "bathrooms                                                                    53920.0\n",
       "sqft_living                                                                 47050176\n",
       "sqft_lot                                                                   331211730\n",
       "floors                                                                       36903.0\n",
       "sqft_above                                                                  40897434\n",
       "sqft_basement                                                               10000265\n",
       "sqft_garage                                                                  7673447\n",
       "sqft_patio                                                                   4601616\n",
       "age                                                                          1024226\n",
       "zips                               9805598027981339803098023981449803168106980929...\n",
       "waterfront_YES                                                                    39\n",
       "greenbelt_YES                                                                    608\n",
       "nuisance_YES                                                                    4030\n",
       "condition_Fair                                                                   148\n",
       "condition_Good                                                                  6378\n",
       "condition_Poor                                                                    29\n",
       "condition_Very_Good                                                             2581\n",
       "grade_11_Excellent                                                                65\n",
       "grade_12_Luxury                                                                    5\n",
       "grade_13_Mansion                                                                   0\n",
       "grade_2_Substandard                                                                0\n",
       "grade_3_Poor                                                                       3\n",
       "grade_4_Low                                                                       21\n",
       "grade_5_Fair                                                                     228\n",
       "grade_6_Low_Average                                                             2173\n",
       "grade_7_Average                                                                10177\n",
       "grade_8_Good                                                                    8000\n",
       "grade_9_Better                                                                  2667\n",
       "heat_source_Electricity/Solar                                                     37\n",
       "heat_source_Gas                                                                16412\n",
       "heat_source_Gas/Solar                                                             54\n",
       "heat_source_Oil                                                                 2187\n",
       "heat_source_Oil/Solar                                                              3\n",
       "heat_source_Other                                                                 10\n",
       "sewer_system_PRIVATE_RESTRICTED                                                    1\n",
       "sewer_system_PUBLIC                                                            20681\n",
       "sewer_system_PUBLIC_RESTRICTED                                                     2\n",
       "dtype: object"
      ]
     },
     "execution_count": 51,
     "metadata": {},
     "output_type": "execute_result"
    }
   ],
   "source": [
    "#reviewing for values of 0, removing these values and zips at this time\n",
    "range_df.sum()"
   ]
  },
  {
   "cell_type": "code",
   "execution_count": 52,
   "metadata": {
    "scrolled": true
   },
   "outputs": [
    {
     "name": "stdout",
     "output_type": "stream",
     "text": [
      "<class 'pandas.core.frame.DataFrame'>\n",
      "Int64Index: 23879 entries, 0 to 30154\n",
      "Data columns (total 35 columns):\n",
      " #   Column                           Non-Null Count  Dtype  \n",
      "---  ------                           --------------  -----  \n",
      " 0   price                            23879 non-null  float64\n",
      " 1   bedrooms                         23879 non-null  int64  \n",
      " 2   bathrooms                        23879 non-null  float64\n",
      " 3   sqft_living                      23879 non-null  int64  \n",
      " 4   sqft_lot                         23879 non-null  int64  \n",
      " 5   floors                           23879 non-null  float64\n",
      " 6   sqft_above                       23879 non-null  int64  \n",
      " 7   sqft_basement                    23879 non-null  int64  \n",
      " 8   sqft_garage                      23879 non-null  int64  \n",
      " 9   sqft_patio                       23879 non-null  int64  \n",
      " 10  age                              23879 non-null  int64  \n",
      " 11  waterfront_YES                   23879 non-null  uint8  \n",
      " 12  greenbelt_YES                    23879 non-null  uint8  \n",
      " 13  nuisance_YES                     23879 non-null  uint8  \n",
      " 14  condition_Fair                   23879 non-null  uint8  \n",
      " 15  condition_Good                   23879 non-null  uint8  \n",
      " 16  condition_Poor                   23879 non-null  uint8  \n",
      " 17  condition_Very_Good              23879 non-null  uint8  \n",
      " 18  grade_11_Excellent               23879 non-null  uint8  \n",
      " 19  grade_3_Poor                     23879 non-null  uint8  \n",
      " 20  grade_4_Low                      23879 non-null  uint8  \n",
      " 21  grade_5_Fair                     23879 non-null  uint8  \n",
      " 22  grade_6_Low_Average              23879 non-null  uint8  \n",
      " 23  grade_7_Average                  23879 non-null  uint8  \n",
      " 24  grade_8_Good                     23879 non-null  uint8  \n",
      " 25  grade_9_Better                   23879 non-null  uint8  \n",
      " 26  heat_source_Electricity/Solar    23879 non-null  uint8  \n",
      " 27  heat_source_Gas                  23879 non-null  uint8  \n",
      " 28  heat_source_Gas/Solar            23879 non-null  uint8  \n",
      " 29  heat_source_Oil                  23879 non-null  uint8  \n",
      " 30  heat_source_Oil/Solar            23879 non-null  uint8  \n",
      " 31  heat_source_Other                23879 non-null  uint8  \n",
      " 32  sewer_system_PRIVATE_RESTRICTED  23879 non-null  uint8  \n",
      " 33  sewer_system_PUBLIC              23879 non-null  uint8  \n",
      " 34  sewer_system_PUBLIC_RESTRICTED   23879 non-null  uint8  \n",
      "dtypes: float64(3), int64(8), uint8(24)\n",
      "memory usage: 2.7 MB\n"
     ]
    }
   ],
   "source": [
    "#create new df removing currently irrelevant dummy, 'zips' columns\n",
    "clean_df = range_df.drop(axis = 1, labels = {'zips','grade_12_Luxury', 'grade_13_Mansion', 'grade_2_Substandard'})\n",
    "#verify columns removed\n",
    "clean_df.info()"
   ]
  },
  {
   "cell_type": "code",
   "execution_count": 53,
   "metadata": {},
   "outputs": [],
   "source": [
    "preds_2 = clean_df.drop(labels = ['price'], axis = 1)\n",
    "target_2 = clean_df.price"
   ]
  },
  {
   "cell_type": "code",
   "execution_count": 54,
   "metadata": {},
   "outputs": [],
   "source": [
    "X_2 = preds_2\n",
    "y_2 = target_2"
   ]
  },
  {
   "cell_type": "code",
   "execution_count": 55,
   "metadata": {
    "scrolled": true
   },
   "outputs": [
    {
     "name": "stdout",
     "output_type": "stream",
     "text": [
      "                            OLS Regression Results                            \n",
      "==============================================================================\n",
      "Dep. Variable:                  price   R-squared:                       0.429\n",
      "Model:                            OLS   Adj. R-squared:                  0.428\n",
      "Method:                 Least Squares   F-statistic:                     526.6\n",
      "Date:                Mon, 03 Oct 2022   Prob (F-statistic):               0.00\n",
      "Time:                        01:14:00   Log-Likelihood:            -3.3501e+05\n",
      "No. Observations:               23879   AIC:                         6.701e+05\n",
      "Df Residuals:                   23844   BIC:                         6.704e+05\n",
      "Df Model:                          34                                         \n",
      "Covariance Type:            nonrobust                                         \n",
      "===================================================================================================\n",
      "                                      coef    std err          t      P>|t|      [0.025      0.975]\n",
      "---------------------------------------------------------------------------------------------------\n",
      "const                            8.126e+05   2.15e+04     37.854      0.000     7.7e+05    8.55e+05\n",
      "bedrooms                        -1.525e+04   2933.041     -5.200      0.000    -2.1e+04   -9502.696\n",
      "bathrooms                        3.919e+04   4250.438      9.219      0.000    3.09e+04    4.75e+04\n",
      "sqft_living                        94.7702     10.349      9.158      0.000      74.486     115.054\n",
      "sqft_lot                            0.3841      0.046      8.434      0.000       0.295       0.473\n",
      "floors                          -8891.1734   5047.664     -1.761      0.078   -1.88e+04    1002.569\n",
      "sqft_above                         96.8246     10.485      9.235      0.000      76.274     117.375\n",
      "sqft_basement                      66.6496      7.553      8.824      0.000      51.845      81.454\n",
      "sqft_garage                       -91.9575      9.945     -9.246      0.000    -111.451     -72.464\n",
      "sqft_patio                         46.4318      9.954      4.664      0.000      26.921      65.943\n",
      "age                              2880.4528    101.838     28.285      0.000    2680.844    3080.062\n",
      "waterfront_YES                  -3.979e+04   4.85e+04     -0.820      0.412   -1.35e+05    5.54e+04\n",
      "greenbelt_YES                    1.292e+05   1.25e+04     10.312      0.000    1.05e+05    1.54e+05\n",
      "nuisance_YES                     1.218e+04   5320.219      2.289      0.022    1752.105    2.26e+04\n",
      "condition_Fair                    -2.6e+04   2.51e+04     -1.036      0.300   -7.52e+04    2.32e+04\n",
      "condition_Good                   2.603e+04   5026.225      5.178      0.000    1.62e+04    3.59e+04\n",
      "condition_Poor                   -1.34e+05   5.75e+04     -2.330      0.020   -2.47e+05   -2.13e+04\n",
      "condition_Very_Good              6.699e+04   7104.311      9.430      0.000    5.31e+04    8.09e+04\n",
      "grade_11_Excellent                8.34e+04   3.95e+04      2.114      0.035    6076.150    1.61e+05\n",
      "grade_3_Poor                    -3.795e+05   1.78e+05     -2.127      0.033   -7.29e+05   -2.98e+04\n",
      "grade_4_Low                     -5.425e+05   6.79e+04     -7.995      0.000   -6.76e+05    -4.1e+05\n",
      "grade_5_Fair                    -6.758e+05   2.59e+04    -26.140      0.000   -7.27e+05   -6.25e+05\n",
      "grade_6_Low_Average             -7.002e+05   1.71e+04    -40.954      0.000   -7.34e+05   -6.67e+05\n",
      "grade_7_Average                 -5.773e+05   1.51e+04    -38.345      0.000   -6.07e+05   -5.48e+05\n",
      "grade_8_Good                    -4.022e+05   1.42e+04    -28.240      0.000    -4.3e+05   -3.74e+05\n",
      "grade_9_Better                  -1.708e+05   1.45e+04    -11.817      0.000   -1.99e+05   -1.42e+05\n",
      "heat_source_Electricity/Solar    1.267e+04   4.95e+04      0.256      0.798   -8.44e+04     1.1e+05\n",
      "heat_source_Gas                  2.026e+04   5218.651      3.882      0.000       1e+04    3.05e+04\n",
      "heat_source_Gas/Solar            1.691e+05   4.11e+04      4.112      0.000    8.85e+04     2.5e+05\n",
      "heat_source_Oil                 -2847.4116   8362.107     -0.341      0.733   -1.92e+04    1.35e+04\n",
      "heat_source_Oil/Solar           -6.032e+04   1.73e+05     -0.348      0.728      -4e+05    2.79e+05\n",
      "heat_source_Other                1.226e+05   9.52e+04      1.287      0.198   -6.41e+04    3.09e+05\n",
      "sewer_system_PRIVATE_RESTRICTED  5.198e+04      3e+05      0.173      0.863   -5.36e+05     6.4e+05\n",
      "sewer_system_PUBLIC              6.474e+04   6534.240      9.908      0.000    5.19e+04    7.75e+04\n",
      "sewer_system_PUBLIC_RESTRICTED  -9543.5647   2.12e+05     -0.045      0.964   -4.26e+05    4.06e+05\n",
      "==============================================================================\n",
      "Omnibus:                     2365.609   Durbin-Watson:                   2.003\n",
      "Prob(Omnibus):                  0.000   Jarque-Bera (JB):             3636.005\n",
      "Skew:                           0.744   Prob(JB):                         0.00\n",
      "Kurtosis:                       4.200   Cond. No.                     7.56e+06\n",
      "==============================================================================\n",
      "\n",
      "Notes:\n",
      "[1] Standard Errors assume that the covariance matrix of the errors is correctly specified.\n",
      "[2] The condition number is large, 7.56e+06. This might indicate that there are\n",
      "strong multicollinearity or other numerical problems.\n"
     ]
    },
    {
     "name": "stderr",
     "output_type": "stream",
     "text": [
      "/opt/conda/lib/python3.9/site-packages/statsmodels/tsa/tsatools.py:142: FutureWarning: In a future version of pandas all arguments of concat except for the argument 'objs' will be keyword-only\n",
      "  x = pd.concat(x[::order], 1)\n"
     ]
    }
   ],
   "source": [
    "model_2 = sm.OLS(y_2, sm.add_constant(X_2))\n",
    "results_2 = model_2.fit()\n",
    "print(results_2.summary())"
   ]
  },
  {
   "cell_type": "markdown",
   "metadata": {},
   "source": [
    "### Our R-squared using is now 42.9%, F-statistic is below 0. We have mostly P-statistics above .5, but some are above this max. Looking at our values for 'sqft_lot', 'sqft_living' and 'sqft_above',  their P-statistics are below 0. So, we can move forward using those as our predictor values."
   ]
  },
  {
   "cell_type": "code",
   "execution_count": 56,
   "metadata": {
    "scrolled": true
   },
   "outputs": [
    {
     "data": {
      "text/plain": [
       "0.0897269272686582"
      ]
     },
     "execution_count": 56,
     "metadata": {},
     "output_type": "execute_result"
    }
   ],
   "source": [
    "# Check our current data's correlations with price\n",
    "clean_df.price.corr(df.sqft_lot)"
   ]
  },
  {
   "cell_type": "code",
   "execution_count": 57,
   "metadata": {
    "scrolled": true
   },
   "outputs": [
    {
     "data": {
      "text/plain": [
       "0.5559064554200225"
      ]
     },
     "execution_count": 57,
     "metadata": {},
     "output_type": "execute_result"
    }
   ],
   "source": [
    "clean_df.price.corr(df.sqft_living)"
   ]
  },
  {
   "cell_type": "code",
   "execution_count": 58,
   "metadata": {},
   "outputs": [
    {
     "data": {
      "text/plain": [
       "0.4862121999941026"
      ]
     },
     "execution_count": 58,
     "metadata": {},
     "output_type": "execute_result"
    }
   ],
   "source": [
    "clean_df.price.corr(df.sqft_above)"
   ]
  },
  {
   "cell_type": "code",
   "execution_count": 59,
   "metadata": {},
   "outputs": [
    {
     "data": {
      "text/plain": [
       "<AxesSubplot:>"
      ]
     },
     "execution_count": 59,
     "metadata": {},
     "output_type": "execute_result"
    },
    {
     "data": {
      "image/png": "[encoded data removed]",
      "text/plain": [
       "<Figure size 432x288 with 2 Axes>"
      ]
     },
     "metadata": {},
     "output_type": "display_data"
    }
   ],
   "source": [
    "sns.heatmap(X_2.corr())"
   ]
  },
  {
   "cell_type": "markdown",
   "metadata": {},
   "source": [
    "### Final Model"
   ]
  },
  {
   "cell_type": "markdown",
   "metadata": {
    "index": 67
   },
   "source": [
    "## Regression Results"
   ]
  },
  {
   "cell_type": "markdown",
   "metadata": {},
   "source": [
    "## The model represented is:\n",
    "### Price = 812,600 + 0.3841(sqft_lot) + 96.8246(sqft_above) + 94.7702(sqft_living)"
   ]
  },
  {
   "cell_type": "markdown",
   "metadata": {},
   "source": [
    "### Keeping in mind we are reviewing data only pertaining to original entries listed as view_NONE between the 95th and 5th percentiles of price:\n",
    "\n",
    "#### Overall, this model is statistically significant with a t-statistic p-value and overall F_p-value still below 5%. \n",
    "\n",
    "##### This shows our sqft_lot, sqft_above and sqft_living parameters each significantly impact price\n",
    "##### For each sf of increase in sqft_Lot we only gain .38 units in Price, even though it's p-value is still below 5%.\n",
    "##### This shows us that sqft_lot is not a good fit for this linear regression model"
   ]
  },
  {
   "cell_type": "code",
   "execution_count": 60,
   "metadata": {
    "scrolled": true
   },
   "outputs": [
    {
     "data": {
      "image/png": "[encoded data removed]",
      "text/plain": [
       "<Figure size 720x360 with 3 Axes>"
      ]
     },
     "metadata": {},
     "output_type": "display_data"
    }
   ],
   "source": [
    "# This will model our chosen predictors alone without the effects of the other two\n",
    "fig = plt.figure(figsize=(10,5))\n",
    "sm.graphics.plot_partregress_grid(results_2, exog_idx=[\"sqft_lot\", \"sqft_above\", \"sqft_living\"], fig=fig)\n",
    "plt.tight_layout()\n",
    "plt.show()"
   ]
  },
  {
   "cell_type": "markdown",
   "metadata": {
    "index": 86
   },
   "source": [
    "## Conclusion"
   ]
  },
  {
   "cell_type": "markdown",
   "metadata": {},
   "source": [
    "### In conclusion, we can see that our initially chosen parameters sqft_lot, sqft_above, and sqft_living have some significance in determining final home selling price. With that said sqft_lot for this particular set of data, does not seem to add much to the price. However, their may be other factors that we may want to consider. We need to discern if the view values of 'NONE' are accurate, really NaN values, or are misleading in some other fashion. Other considerations may be the factors of condition and grade as they have p-values below 5% as well, we also see a larger stastistically significant impact on sales price of these homes. "
   ]
  },
  {
   "cell_type": "markdown",
   "metadata": {},
   "source": [
    "### Thank you,\n",
    "### Scharmaine Chappell"
   ]
  }
 ],
 "metadata": {
  "kernelspec": {
   "display_name": "Python 3",
   "language": "python",
   "name": "python3"
  },
  "language_info": {
   "codemirror_mode": {
    "name": "ipython",
    "version": 3
   },
   "file_extension": ".py",
   "mimetype": "text/x-python",
   "name": "python",
   "nbconvert_exporter": "python",
   "pygments_lexer": "ipython3",
   "version": "3.9.5"
  }
 },
 "nbformat": 4,
 "nbformat_minor": 4
}
